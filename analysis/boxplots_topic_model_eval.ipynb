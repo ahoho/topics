{
 "cells": [
  {
   "cell_type": "code",
   "execution_count": 188,
   "metadata": {},
   "outputs": [],
   "source": [
    "from pathlib import Path\n",
    "import numpy as np\n",
    "import pandas as pd\n",
    "\n",
    "from plotnine import *\n",
    "\n",
    "task_data = pd.read_csv('../data/human/all_data/all_data.csv')\n",
    "\n",
    "task_averages = task_data.groupby(['task', 'dataset', 'model', 'topic_idx'])[[\"scores_raw\"]].mean().reset_index()\n"
   ]
  },
  {
   "cell_type": "code",
   "execution_count": 189,
   "metadata": {},
   "outputs": [],
   "source": [
    "task_data_auto = task_data.drop(columns=\"scores_raw\").rename(columns={\"c_npmi_10_full\": \"scores_raw\"}).copy()\n",
    "task_data_auto[\"task\"] = \"Automated\"\n",
    "task_data_auto[\"confidences_raw\"] = 1\n",
    "task_data_plot = pd.concat([task_data, task_data_auto], ignore_index=True)\n",
    "task_data_plot = task_data_plot.replace(\"intrusions\", \"Intrusion\")\n",
    "task_data_plot = task_data_plot.replace(\"ratings\", \"Ratings\")"
   ]
  },
  {
   "cell_type": "code",
   "execution_count": 190,
   "metadata": {},
   "outputs": [],
   "source": [
    "task_averages = task_data_plot.groupby(['task', 'dataset', 'model', 'topic_idx'], sort=False)[[\"scores_raw\"]].mean().reset_index()\n"
   ]
  },
  {
   "cell_type": "markdown",
   "metadata": {},
   "source": [
    "## Boxplot"
   ]
  },
  {
   "cell_type": "code",
   "execution_count": 191,
   "metadata": {},
   "outputs": [],
   "source": [
    "\n",
    "# ggsave(\n",
    "#     ggplot(task_averages)\n",
    "#     + geom_boxplot(aes(x=\"factor(model)\", y=\"scores_raw\", fill='model'), show_legend = False)\n",
    "#     + facet_wrap(\"~dataset+task\", scales=\"free_y\", )\n",
    "#     + xlab(\"Model\")\n",
    "#     + ylab(\"\")\n",
    "#     + theme(\n",
    "#         axis_line=element_line(size=1, colour=\"black\"),\n",
    "#         panel_grid_major=element_line(colour=\"#d3d3d3\"),\n",
    "#         panel_grid_minor=element_blank(),\n",
    "#         panel_border=element_blank(),\n",
    "#         panel_background=element_blank(),\n",
    "#         plot_title=element_text(size=12, family=\"Tahoma\", \n",
    "#                                 face=\"bold\"),\n",
    "#         text=element_text(family=\"Tahoma\", size=10),\n",
    "#         axis_text_x=element_text(colour=\"black\", size=10),\n",
    "#         axis_text_y=element_text(colour=\"black\", size=8),\n",
    "#         subplots_adjust={'wspace': 0.3, 'hspace': 0.5},\n",
    "#         strip_margin_x=0.3,\n",
    "#     )\n",
    "#     + scale_x_discrete(limits=(\"mallet\", \"dvae\", \"etm\"))\n",
    "#     + theme(figure_size=(8, 4))\n",
    "#     + scale_fill_brewer(type=\"qual\", palette=\"Set2\"), filename=\"model_comparison_boxplot.pdf\",\n",
    "# dpi=320)"
   ]
  },
  {
   "cell_type": "markdown",
   "metadata": {},
   "source": [
    "### data setup for bar chart"
   ]
  },
  {
   "cell_type": "code",
   "execution_count": 192,
   "metadata": {},
   "outputs": [
    {
     "name": "stderr",
     "output_type": "stream",
     "text": [
      "/Users/dpeskov/anaconda3/envs/ASR/lib/python3.6/site-packages/ipykernel/__main__.py:7: SettingWithCopyWarning: \n",
      "A value is trying to be set on a copy of a slice from a DataFrame.\n",
      "Try using .loc[row_indexer,col_indexer] = value instead\n",
      "\n",
      "See the caveats in the documentation: https://pandas.pydata.org/pandas-docs/stable/user_guide/indexing.html#returning-a-view-versus-a-copy\n",
      "/Users/dpeskov/anaconda3/envs/ASR/lib/python3.6/site-packages/ipykernel/__main__.py:10: SettingWithCopyWarning: \n",
      "A value is trying to be set on a copy of a slice from a DataFrame.\n",
      "Try using .loc[row_indexer,col_indexer] = value instead\n",
      "\n",
      "See the caveats in the documentation: https://pandas.pydata.org/pandas-docs/stable/user_guide/indexing.html#returning-a-view-versus-a-copy\n"
     ]
    }
   ],
   "source": [
    "task_data = pd.read_csv('../data/human/all_data/all_data.csv')\n",
    "task_data = task_data.replace(\"intrusions\", \"Intrusion\")\n",
    "task_data = task_data.replace(\"ratings\", \"Ratings\")\n",
    "\n",
    "task_data_conf = task_data[task_data['confidences_raw']==1]\n",
    "task_data_intrusion_filtered = task_data_conf[task_data_conf['task']==\"Intrusion\"]\n",
    "task_data_intrusion_filtered[\"task\"] = \"Intrusion_filtered\"\n",
    "\n",
    "task_data_ratings_filtered = task_data_conf[task_data_conf['task']==\"Ratings\"]\n",
    "task_data_ratings_filtered[\"task\"] = \"Ratings_filtered\"\n",
    "\n",
    "# task_data_auto = task_data.drop(columns=\"scores_raw\").rename(columns={\"c_npmi_10_full\": \"scores_raw\"}).copy()\n",
    "# task_data_auto[\"task\"] = \"Automated\"\n",
    "# task_data_auto[\"confidences_raw\"] = 1\n",
    "\n",
    "\n",
    "task_data_plot = pd.concat([task_data, task_data_intrusion_filtered, task_data_ratings_filtered], \n",
    "                           ignore_index=True)\n",
    "\n",
    "#task_averages = task_data_plot.groupby(['task', 'dataset', 'model', 'topic_idx'], sort=False)[[\"scores_raw\"]].mean().reset_index()\n",
    "\n",
    "task_data_plot['subtask'] = task_data_plot['task'].copy()\n",
    "task_data_plot['task'] = task_data_plot['task'].replace(\"Intrusion_filtered\", \"Intrusion\")\n",
    "task_data_plot['task'] = task_data_plot['task'].replace(\"Ratings_filtered\", \"Ratings\")\n",
    "\n",
    "task_data_plot['subtask'] = task_data_plot['subtask'].replace(\"Ratings_filtered\", \"Ratings: Filtered\")\n",
    "task_data_plot['subtask'] = task_data_plot['subtask'].replace(\"Ratings\", \"Ratings: All\")\n",
    "task_data_plot['subtask'] = task_data_plot['subtask'].replace(\"Intrusion_filtered\", \"Intrusion: Filtered\")\n",
    "task_data_plot['subtask'] = task_data_plot['subtask'].replace(\"Intrusion\", \"Intrusion: All\")\n",
    "\n",
    "task_data_plot['model'] = task_data_plot['model'].replace(\"mallet\", \"G-LDA\")\n",
    "task_data_plot['model'] = task_data_plot['model'].replace(\"dvae\", \"D-VAE\")\n",
    "task_data_plot['model'] = task_data_plot['model'].replace(\"etm\", \"ETM\")\n",
    "\n",
    "task_data_plot = task_data_plot.rename(columns={\"subtask\": \"Familiarity\"})\n",
    "\n",
    "task_filtered_vs_og = task_data_plot.groupby(['task', 'dataset', 'Familiarity', 'model', 'topic_idx'], sort=False)[[\"scores_raw\"]].mean().reset_index()"
   ]
  },
  {
   "cell_type": "code",
   "execution_count": 197,
   "metadata": {},
   "outputs": [
    {
     "name": "stderr",
     "output_type": "stream",
     "text": [
      "/Users/dpeskov/anaconda3/envs/ASR/lib/python3.6/site-packages/plotnine/ggplot.py:721: PlotnineWarning: Saving 10 x 4 in image.\n",
      "/Users/dpeskov/anaconda3/envs/ASR/lib/python3.6/site-packages/plotnine/ggplot.py:722: PlotnineWarning: Filename: barplot_effect_of_familiarity.pdf\n"
     ]
    }
   ],
   "source": [
    "ggsave(\n",
    "    ggplot(task_filtered_vs_og, aes(x='factor(model)', y='scores_raw', fill = 'model+Familiarity', color = 'Familiarity'))\n",
    "    + geom_col(stat='summary', fun_y= lambda x:np.mean(x), position='dodge', width=0.5, show_legend=True)\n",
    "    + facet_wrap(\"~dataset+task\", scales=\"free_y\", ncol = 2, )\n",
    "    + xlab(\"Model\")\n",
    "    + ylab(\"\")\n",
    "    + theme(\n",
    "        axis_line=element_line(size=1, colour=\"black\"),\n",
    "        panel_grid_major=element_line(colour=\"#d3d3d3\"),\n",
    "        panel_grid_minor=element_blank(),\n",
    "        panel_border=element_blank(),\n",
    "        panel_background=element_blank(),\n",
    "        plot_title=element_text(size=12, family=\"Tahoma\", \n",
    "                                face=\"bold\"),\n",
    "        text=element_text(family=\"Tahoma\", size=10),\n",
    "        axis_text_x=element_text(colour=\"black\", size=10),\n",
    "        axis_text_y=element_text(colour=\"black\", size=8),\n",
    "        subplots_adjust={'wspace': 0.1, 'hspace': 0.4},\n",
    "        strip_margin_x=0.3,\n",
    "    )\n",
    "    #CLOSE to working code for errorbar+ geom_errorbar(aes(ymin = task_filtered_vs_og.scores_raw.mean()-task_filtered_vs_og.scores_raw.std(), ymax = task_filtered_vs_og.scores_raw.mean()+task_filtered_vs_og.scores_raw.std()), width = 0.25, data = None)\n",
    "    #uncomment to remove legend title + theme(legend_title=element_blank())\n",
    "    #This should work but doesn't do anything + theme(legend_key=element_rect(fill='pink'))\n",
    "    + scale_x_discrete(limits=('G-LDA', 'D-VAE', 'ETM'))#\"G-LDA\", \"D-VAE\", \"ETM\"))\n",
    "    + theme(figure_size=(10, 4))\n",
    "    + guides(fill = False) #turns off legend for fill\n",
    "    #This should work for changing legend + guides(color = guide_legend(override.aes = list(fill = \"white\")))\n",
    "    + scale_color_manual([ 'black', 'yellow', 'black', 'yellow',])\n",
    "    + scale_fill_manual(values = [\"#66c2a5\", \"#b2e0d2\",\n",
    "                                  \"#66c2a5\", \"#b2e0d2\",\n",
    "                                  \"#fc8d62\", \"#fdc6b0\",\n",
    "                                  \"#fc8d62\", \"#fdc6b0\",\n",
    "                                  \"#8da0cb\", \"#c6cfe5\",\n",
    "                                  \"#8da0cb\", \"#c6cfe5\", \n",
    "                                  \"#66c2a5\", \"#b2e0d2\",\n",
    "                                  \"#66c2a5\", \"#b2e0d2\",\n",
    "                                  \"#fc8d62\", \"#fdc6b0\", \n",
    "                                  \"#fc8d62\", \"#fdc6b0\",\n",
    "                                  \"#8da0cb\", \"#c6cfe5\",\n",
    "                                  \"#8da0cb\", \"#c6cfe5\"])#scale_fill_brewer(type=\"qual\", palette=\"Set2\")\n",
    ", filename=\"barplot_effect_of_familiarity.pdf\",\n",
    "dpi=320)"
   ]
  },
  {
   "cell_type": "code",
   "execution_count": null,
   "metadata": {},
   "outputs": [],
   "source": []
  }
 ],
 "metadata": {
  "kernelspec": {
   "display_name": "Python [default]",
   "language": "python",
   "name": "python3"
  },
  "language_info": {
   "codemirror_mode": {
    "name": "ipython",
    "version": 3
   },
   "file_extension": ".py",
   "mimetype": "text/x-python",
   "name": "python",
   "nbconvert_exporter": "python",
   "pygments_lexer": "ipython3",
   "version": "3.6.4"
  }
 },
 "nbformat": 4,
 "nbformat_minor": 2
}
