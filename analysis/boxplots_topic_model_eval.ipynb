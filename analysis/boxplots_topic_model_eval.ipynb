{
 "cells": [
  {
   "cell_type": "code",
   "execution_count": 1,
   "metadata": {},
   "outputs": [
    {
     "name": "stderr",
     "output_type": "stream",
     "text": [
      "\n",
      "Bad key \"backend in file /Users/pranavgoel/.matplotlib/matplotlibrc, line 1 ('\"backend: TkAgg\"')\n",
      "You probably need to get an updated matplotlibrc file from\n",
      "https://github.com/matplotlib/matplotlib/blob/v3.4.2/matplotlibrc.template\n",
      "or from the matplotlib source distribution\n"
     ]
    }
   ],
   "source": [
    "from pathlib import Path\n",
    "import numpy as np\n",
    "import pandas as pd\n",
    "\n",
    "from plotnine import *\n",
    "\n",
    "task_data = pd.read_csv('../data/human/all_data/all_data.csv')\n",
    "\n",
    "task_averages = task_data.groupby(['task', 'dataset', 'model', 'topic_idx'])[[\"scores_raw\"]].mean().reset_index()\n"
   ]
  },
  {
   "cell_type": "code",
   "execution_count": 2,
   "metadata": {
    "collapsed": true
   },
   "outputs": [],
   "source": [
    "task_data_auto = task_data.drop(columns=\"scores_raw\").rename(columns={\"c_npmi_10_full\": \"scores_raw\"}).copy()\n",
    "task_data_auto[\"task\"] = \"Automated\"\n",
    "task_data_auto[\"confidences_raw\"] = 1\n",
    "task_data_plot = pd.concat([task_data, task_data_auto], ignore_index=True)\n",
    "task_data_plot = task_data_plot.replace(\"intrusions\", \"Intrusion\")\n",
    "task_data_plot = task_data_plot.replace(\"ratings\", \"Ratings\")"
   ]
  },
  {
   "cell_type": "code",
   "execution_count": 3,
   "metadata": {
    "collapsed": true
   },
   "outputs": [],
   "source": [
    "task_averages = task_data_plot.groupby(['task', 'dataset', 'model', 'topic_idx'], sort=False)[[\"scores_raw\"]].mean().reset_index()\n",
    "task_averages['model'] = task_averages['model'].replace(\"mallet\", \"G-LDA\")\n",
    "task_averages['model'] = task_averages['model'].replace(\"dvae\", \"D-VAE\")\n",
    "task_averages['model'] = task_averages['model'].replace(\"etm\", \"ETM\")"
   ]
  },
  {
   "cell_type": "markdown",
   "metadata": {},
   "source": [
    "## Boxplot"
   ]
  },
  {
   "cell_type": "code",
   "execution_count": 4,
   "metadata": {
    "collapsed": true
   },
   "outputs": [],
   "source": [
    "task_averages['dataset'] = task_averages['dataset'].replace(\"nytimes\", \"NYT\")\n",
    "task_averages['dataset'] = task_averages['dataset'].replace(\"wikitext\", \"WIKI\")"
   ]
  },
  {
   "cell_type": "code",
   "execution_count": 14,
   "metadata": {},
   "outputs": [
    {
     "name": "stderr",
     "output_type": "stream",
     "text": [
      "/Users/pranavgoel/anaconda/envs/pg/lib/python3.9/site-packages/plotnine/ggplot.py:719: PlotnineWarning: Saving 3.3 x 2.2 in image.\n",
      "/Users/pranavgoel/anaconda/envs/pg/lib/python3.9/site-packages/plotnine/ggplot.py:722: PlotnineWarning: Filename: model_comparison_boxplot_small.pdf\n"
     ]
    }
   ],
   "source": [
    "def col_func(s):\n",
    "    if s=='NYT' or s=='WIKI':\n",
    "        return ''\n",
    "    else:\n",
    "        return s\n",
    "\n",
    "ggsave(\n",
    "    ggplot(task_averages)\n",
    "    + geom_boxplot(aes(x=\"factor(model)\", y=\"scores_raw\", fill='model'), show_legend = False)\n",
    "    + facet_wrap(\"~dataset+task\", scales=\"free_y\", labeller = labeller(cols=col_func))\n",
    "    + xlab(\"Model\")\n",
    "    + ylab(\"\")\n",
    "    + theme(\n",
    "        axis_line=element_line(size=1, colour=\"black\"),\n",
    "        panel_grid_major=element_line(colour=\"#d3d3d3\"),\n",
    "        panel_grid_minor=element_blank(),\n",
    "        panel_border=element_blank(),\n",
    "        panel_background=element_blank(),\n",
    "        plot_title=element_text(size=6, family=\"Tahoma\", \n",
    "                                face=\"bold\"),\n",
    "        text=element_text(family=\"Tahoma\", size=8),\n",
    "        axis_text_x=element_text(colour=\"black\", size=5.5),\n",
    "        axis_text_y=element_text(colour=\"black\", size=5.5),\n",
    "        subplots_adjust={'wspace': 0.3, 'hspace': 0.4},\n",
    "        strip_margin_x=0.3,\n",
    "    )\n",
    "    + scale_x_discrete(limits=('G-LDA', 'D-VAE', 'ETM'))\n",
    "    + theme(figure_size=(3.3, 2.2))\n",
    "    + scale_fill_brewer(type=\"qual\", palette=\"Set2\"), filename=\"model_comparison_boxplot_small.pdf\", dpi=320)"
   ]
  },
  {
   "cell_type": "code",
   "execution_count": 23,
   "metadata": {
    "collapsed": true
   },
   "outputs": [],
   "source": [
    "plot1 = (ggplot(task_averages)\n",
    "    + geom_boxplot(aes(x=\"factor(model)\", y=\"scores_raw\", fill='model'), show_legend = False)\n",
    "    + facet_wrap(\"~dataset+task\", scales=\"free_y\", )\n",
    "    + xlab(\"Model\")\n",
    "    + ylab(\"\")\n",
    "    + theme(\n",
    "        axis_line=element_line(size=1, colour=\"black\"),\n",
    "        panel_grid_major=element_line(colour=\"#d3d3d3\"),\n",
    "        panel_grid_minor=element_blank(),\n",
    "        panel_border=element_blank(),\n",
    "        panel_background=element_blank(),\n",
    "        plot_title=element_text(size=12, family=\"Tahoma\", \n",
    "                                face=\"bold\"),\n",
    "        text=element_text(family=\"Tahoma\", size=10),\n",
    "        axis_text_x=element_text(colour=\"black\", size=10),\n",
    "        axis_text_y=element_text(colour=\"black\", size=8),\n",
    "        subplots_adjust={'wspace': 0.3, 'hspace': 0.5},\n",
    "        strip_margin_x=0.3,\n",
    "    )\n",
    "    + scale_x_discrete(limits=('G-LDA', 'D-VAE', 'ETM'))\n",
    "    + theme(figure_size=(6, 2.5))\n",
    "    + scale_fill_brewer(type=\"qual\", palette=\"Set2\"))"
   ]
  },
  {
   "cell_type": "markdown",
   "metadata": {},
   "source": [
    "### data setup for bar chart"
   ]
  },
  {
   "cell_type": "code",
   "execution_count": 15,
   "metadata": {},
   "outputs": [
    {
     "name": "stderr",
     "output_type": "stream",
     "text": [
      "<ipython-input-15-089f0fe1af95>:7: SettingWithCopyWarning: \n",
      "A value is trying to be set on a copy of a slice from a DataFrame.\n",
      "Try using .loc[row_indexer,col_indexer] = value instead\n",
      "\n",
      "See the caveats in the documentation: https://pandas.pydata.org/pandas-docs/stable/user_guide/indexing.html#returning-a-view-versus-a-copy\n",
      "<ipython-input-15-089f0fe1af95>:10: SettingWithCopyWarning: \n",
      "A value is trying to be set on a copy of a slice from a DataFrame.\n",
      "Try using .loc[row_indexer,col_indexer] = value instead\n",
      "\n",
      "See the caveats in the documentation: https://pandas.pydata.org/pandas-docs/stable/user_guide/indexing.html#returning-a-view-versus-a-copy\n"
     ]
    }
   ],
   "source": [
    "task_data = pd.read_csv('../data/human/all_data/all_data.csv')\n",
    "task_data = task_data.replace(\"intrusions\", \"Intrusion\")\n",
    "task_data = task_data.replace(\"ratings\", \"Ratings\")\n",
    "\n",
    "task_data_conf = task_data[task_data['confidences_raw']==1]\n",
    "task_data_intrusion_filtered = task_data_conf[task_data_conf['task']==\"Intrusion\"]\n",
    "task_data_intrusion_filtered[\"task\"] = \"Intrusion_filtered\"\n",
    "\n",
    "task_data_ratings_filtered = task_data_conf[task_data_conf['task']==\"Ratings\"]\n",
    "task_data_ratings_filtered[\"task\"] = \"Ratings_filtered\"\n",
    "\n",
    "# task_data_auto = task_data.drop(columns=\"scores_raw\").rename(columns={\"c_npmi_10_full\": \"scores_raw\"}).copy()\n",
    "# task_data_auto[\"task\"] = \"Automated\"\n",
    "# task_data_auto[\"confidences_raw\"] = 1\n",
    "\n",
    "\n",
    "task_data_plot = pd.concat([task_data, task_data_intrusion_filtered, task_data_ratings_filtered], \n",
    "                           ignore_index=True)\n",
    "\n",
    "#task_averages = task_data_plot.groupby(['task', 'dataset', 'model', 'topic_idx'], sort=False)[[\"scores_raw\"]].mean().reset_index()\n",
    "\n",
    "task_data_plot['subtask'] = task_data_plot['task'].copy()\n",
    "task_data_plot['task'] = task_data_plot['task'].replace(\"Intrusion_filtered\", \"Intrusion\")\n",
    "task_data_plot['task'] = task_data_plot['task'].replace(\"Ratings_filtered\", \"Ratings\")\n",
    "\n",
    "task_data_plot['subtask'] = task_data_plot['subtask'].replace(\"Ratings_filtered\", \"Ratings: Filtered\")\n",
    "task_data_plot['subtask'] = task_data_plot['subtask'].replace(\"Ratings\", \"Ratings: All\")\n",
    "task_data_plot['subtask'] = task_data_plot['subtask'].replace(\"Intrusion_filtered\", \"Intrusion: Filtered\")\n",
    "task_data_plot['subtask'] = task_data_plot['subtask'].replace(\"Intrusion\", \"Intrusion: All\")\n",
    "\n",
    "task_data_plot['model'] = task_data_plot['model'].replace(\"mallet\", \"G-LDA\")\n",
    "task_data_plot['model'] = task_data_plot['model'].replace(\"dvae\", \"D-VAE\")\n",
    "task_data_plot['model'] = task_data_plot['model'].replace(\"etm\", \"ETM\")\n",
    "\n",
    "task_data_plot = task_data_plot.rename(columns={\"subtask\": \"Familiarity\"})\n",
    "\n",
    "task_filtered_vs_og = task_data_plot.groupby(['task', 'dataset', 'Familiarity', 'model', 'topic_idx'], sort=False)[[\"scores_raw\"]].mean().reset_index()\n",
    "\n",
    "task_filtered_vs_og['dataset'] = task_filtered_vs_og['dataset'].replace(\"nytimes\", \"NYT\")\n",
    "task_filtered_vs_og['dataset'] = task_filtered_vs_og['dataset'].replace(\"wikitext\", \"WIKI\")"
   ]
  },
  {
   "cell_type": "code",
   "execution_count": 18,
   "metadata": {},
   "outputs": [
    {
     "name": "stderr",
     "output_type": "stream",
     "text": [
      "/Users/pranavgoel/anaconda/envs/pg/lib/python3.9/site-packages/plotnine/ggplot.py:719: PlotnineWarning: Saving 3.5 x 2.2 in image.\n",
      "/Users/pranavgoel/anaconda/envs/pg/lib/python3.9/site-packages/plotnine/ggplot.py:722: PlotnineWarning: Filename: barplot_effect_of_familiarity_small.pdf\n"
     ]
    }
   ],
   "source": [
    "def col_func(s):\n",
    "    if s=='NYT' or s=='WIKI':\n",
    "        return ''\n",
    "    else:\n",
    "        return s\n",
    "\n",
    "ggsave(\n",
    "    ggplot(task_filtered_vs_og, aes(x='factor(model)', y='scores_raw', fill = 'model+Familiarity', color = 'Familiarity'))\n",
    "    + geom_col(stat='summary', fun_y= lambda x:np.mean(x), position='dodge', width=0.5, show_legend=True)\n",
    "    + facet_wrap(\"~dataset+task\", scales=\"free_y\", ncol = 2, labeller = labeller(cols=col_func))\n",
    "    + xlab(\"Model\")\n",
    "    + ylab(\"\")\n",
    "    + theme(\n",
    "        axis_line=element_line(size=1, colour=\"black\"),\n",
    "        panel_grid_major=element_line(colour=\"#d3d3d3\"),\n",
    "        panel_grid_minor=element_blank(),\n",
    "        panel_border=element_blank(),\n",
    "        panel_background=element_blank(),\n",
    "        plot_title=element_text(size=6, family=\"Tahoma\", \n",
    "                                face=\"bold\"),\n",
    "        text=element_text(family=\"Tahoma\", size=8),\n",
    "        axis_text_x=element_text(colour=\"black\", size=5.5),\n",
    "        axis_text_y=element_text(colour=\"black\", size=5.5),\n",
    "        subplots_adjust={'wspace': 0.15, 'hspace': 0.4},\n",
    "        strip_margin_x=0.3,\n",
    "    )\n",
    "    #CLOSE to working code for errorbar+ geom_errorbar(aes(ymin = task_filtered_vs_og.scores_raw.mean()-task_filtered_vs_og.scores_raw.std(), ymax = task_filtered_vs_og.scores_raw.mean()+task_filtered_vs_og.scores_raw.std()), width = 0.25, data = None)\n",
    "    #uncomment to remove legend title + theme(legend_title=element_blank())\n",
    "    #This should work but doesn't do anything + theme(legend_key=element_rect(fill='pink'))\n",
    "    + scale_x_discrete(limits=('G-LDA', 'D-VAE', 'ETM'))#\"G-LDA\", \"D-VAE\", \"ETM\"))\n",
    "    + theme(figure_size=(3.5, 2.2))\n",
    "    + guides(fill = False) #turns off legend for fill\n",
    "    #This should work for changing legend + guides(color = guide_legend(override.aes = list(fill = \"white\")))\n",
    "    + scale_color_manual([ 'black', 'yellow', 'black', 'yellow',])\n",
    "    + scale_fill_manual(values = [\"#66c2a5\", \"#b2e0d2\",\n",
    "                                  \"#66c2a5\", \"#b2e0d2\",\n",
    "                                  \"#fc8d62\", \"#fdc6b0\",\n",
    "                                  \"#fc8d62\", \"#fdc6b0\",\n",
    "                                  \"#8da0cb\", \"#c6cfe5\",\n",
    "                                  \"#8da0cb\", \"#c6cfe5\", \n",
    "                                  \"#66c2a5\", \"#b2e0d2\",\n",
    "                                  \"#66c2a5\", \"#b2e0d2\",\n",
    "                                  \"#fc8d62\", \"#fdc6b0\", \n",
    "                                  \"#fc8d62\", \"#fdc6b0\",\n",
    "                                  \"#8da0cb\", \"#c6cfe5\",\n",
    "                                  \"#8da0cb\", \"#c6cfe5\"])#scale_fill_brewer(type=\"qual\", palette=\"Set2\")\n",
    ", filename=\"barplot_effect_of_familiarity_small.pdf\", dpi=320)"
   ]
  },
  {
   "cell_type": "code",
   "execution_count": 24,
   "metadata": {
    "collapsed": true
   },
   "outputs": [],
   "source": [
    "plot2 = (\n",
    "    ggplot(task_filtered_vs_og, aes(x='factor(model)', y='scores_raw', fill = 'model+Familiarity', color = 'Familiarity'))\n",
    "    + geom_col(stat='summary', fun_y= lambda x:np.mean(x), position='dodge', width=0.5, show_legend=True)\n",
    "    + facet_wrap(\"~dataset+task\", scales=\"free_y\", ncol = 2, )\n",
    "    + xlab(\"Model\")\n",
    "    + ylab(\"\")\n",
    "    + theme(\n",
    "        axis_line=element_line(size=1, colour=\"black\"),\n",
    "        panel_grid_major=element_line(colour=\"#d3d3d3\"),\n",
    "        panel_grid_minor=element_blank(),\n",
    "        panel_border=element_blank(),\n",
    "        panel_background=element_blank(),\n",
    "        plot_title=element_text(size=12, family=\"Tahoma\", \n",
    "                                face=\"bold\"),\n",
    "        text=element_text(family=\"Tahoma\", size=10),\n",
    "        axis_text_x=element_text(colour=\"black\", size=10),\n",
    "        axis_text_y=element_text(colour=\"black\", size=8),\n",
    "        subplots_adjust={'wspace': 0.1, 'hspace': 0.4},\n",
    "        strip_margin_x=0.3,\n",
    "    )\n",
    "    #CLOSE to working code for errorbar+ geom_errorbar(aes(ymin = task_filtered_vs_og.scores_raw.mean()-task_filtered_vs_og.scores_raw.std(), ymax = task_filtered_vs_og.scores_raw.mean()+task_filtered_vs_og.scores_raw.std()), width = 0.25, data = None)\n",
    "    #uncomment to remove legend title + theme(legend_title=element_blank())\n",
    "    #This should work but doesn't do anything + theme(legend_key=element_rect(fill='pink'))\n",
    "    + scale_x_discrete(limits=('G-LDA', 'D-VAE', 'ETM'))#\"G-LDA\", \"D-VAE\", \"ETM\"))\n",
    "    + theme(figure_size=(4.5, 2.5))\n",
    "    + guides(fill = False) #turns off legend for fill\n",
    "    #This should work for changing legend + guides(color = guide_legend(override.aes = list(fill = \"white\")))\n",
    "    + scale_color_manual([ 'black', 'yellow', 'black', 'yellow',])\n",
    "    + scale_fill_manual(values = [\"#66c2a5\", \"#b2e0d2\",\n",
    "                                  \"#66c2a5\", \"#b2e0d2\",\n",
    "                                  \"#fc8d62\", \"#fdc6b0\",\n",
    "                                  \"#fc8d62\", \"#fdc6b0\",\n",
    "                                  \"#8da0cb\", \"#c6cfe5\",\n",
    "                                  \"#8da0cb\", \"#c6cfe5\", \n",
    "                                  \"#66c2a5\", \"#b2e0d2\",\n",
    "                                  \"#66c2a5\", \"#b2e0d2\",\n",
    "                                  \"#fc8d62\", \"#fdc6b0\", \n",
    "                                  \"#fc8d62\", \"#fdc6b0\",\n",
    "                                  \"#8da0cb\", \"#c6cfe5\",\n",
    "                                  \"#8da0cb\", \"#c6cfe5\"])#scale_fill_brewer(type=\"qual\", palette=\"Set2\")\n",
    ")"
   ]
  },
  {
   "cell_type": "code",
   "execution_count": 25,
   "metadata": {},
   "outputs": [
    {
     "data": {
      "image/png": "[encoded data removed]",
      "text/plain": [
       "<Figure size 600x250 with 6 Axes>"
      ]
     },
     "metadata": {},
     "output_type": "display_data"
    },
    {
     "data": {
      "image/png": "[encoded data removed]",
      "text/plain": [
       "<Figure size 450x250 with 4 Axes>"
      ]
     },
     "metadata": {},
     "output_type": "display_data"
    },
    {
     "name": "stdout",
     "output_type": "stream",
     "text": [
      "(<ggplot: (8767333515427)>, <ggplot: (8767345381771)>)\n"
     ]
    }
   ],
   "source": [
    "print((plot1, plot2))"
   ]
  },
  {
   "cell_type": "code",
   "execution_count": null,
   "metadata": {
    "collapsed": true
   },
   "outputs": [],
   "source": []
  }
 ],
 "metadata": {
  "kernelspec": {
   "display_name": "pg",
   "language": "python",
   "name": "pg"
  },
  "language_info": {
   "codemirror_mode": {
    "name": "ipython",
    "version": 3
   },
   "file_extension": ".py",
   "mimetype": "text/x-python",
   "name": "python",
   "nbconvert_exporter": "python",
   "pygments_lexer": "ipython3",
   "version": "3.9.5"
  }
 },
 "nbformat": 4,
 "nbformat_minor": 2
}
