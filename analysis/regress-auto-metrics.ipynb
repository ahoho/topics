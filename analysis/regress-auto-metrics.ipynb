{
 "metadata": {
  "language_info": {
   "codemirror_mode": {
    "name": "ipython",
    "version": 3
   },
   "file_extension": ".py",
   "mimetype": "text/x-python",
   "name": "python",
   "nbconvert_exporter": "python",
   "pygments_lexer": "ipython3",
   "version": "3.8.10"
  },
  "orig_nbformat": 2,
  "kernelspec": {
   "name": "python3810jvsc74a57bd0cf30b2a248a022118eaf3990843f204490a3a4dad78b3cc35fb5102bf723d6fa",
   "display_name": "Python 3.8.10 64-bit ('statsmodels-dev': conda)"
  }
 },
 "nbformat": 4,
 "nbformat_minor": 2,
 "cells": [
  {
   "cell_type": "code",
   "execution_count": 1,
   "metadata": {},
   "outputs": [],
   "source": [
    "import itertools\n",
    "import json\n",
    "import re\n",
    "import sys\n",
    "from pathlib import Path\n",
    "\n",
    "import pandas as pd\n",
    "import numpy as np\n",
    "from tqdm import tqdm \n",
    "\n",
    "import statsmodels.api as sm\n",
    "from statsmodels.miscmodels.ordinal_model import OrderedModel\n",
    "from statsmodels.stats.proportion import proportions_ztest\n",
    "\n",
    "from scipy.stats import pearsonr, spearmanr, mannwhitneyu"
   ]
  },
  {
   "cell_type": "code",
   "execution_count": 2,
   "metadata": {},
   "outputs": [],
   "source": [
    "def load_json(path):\n",
    "    with open(path) as infile:\n",
    "        return json.load(infile)\n",
    "\n",
    "def save_json(obj, path):\n",
    "    with open(path, 'w') as outfile:\n",
    "        return json.dump(obj, outfile, indent=2)"
   ]
  },
  {
   "cell_type": "code",
   "execution_count": 3,
   "metadata": {},
   "outputs": [],
   "source": [
    "DATA_DIR = \"../data/human/all_data\"\n",
    "DATA_FILE = \"all_data.csv\"\n",
    "FILTER_ON_FAMILIARITY = False\n",
    "DROP_NA = False # if true, then nan/inf set to 0\n",
    "AVERAGE_ANNOTATIONS = False # average over human annotators before running regression\n",
    "ITERS = 1_000"
   ]
  },
  {
   "source": [
    "## Data compilation"
   ],
   "cell_type": "markdown",
   "metadata": {}
  },
  {
   "cell_type": "code",
   "execution_count": 4,
   "metadata": {},
   "outputs": [],
   "source": [
    "auto_metric_names = [\n",
    " 'c_npmi_10_full',\n",
    " 'c_npmi_10_nytimes_full',\n",
    " 'c_npmi_10_test',\n",
    " 'c_npmi_10_train',\n",
    " 'c_npmi_10_val',\n",
    " 'c_npmi_10_wikitext_full',\n",
    " 'c_uci_full',\n",
    " 'c_v_full',\n",
    " 'c_v_nytimes_full',\n",
    " 'c_v_test',\n",
    " 'c_v_train',\n",
    " 'c_v_val',\n",
    " 'c_v_wikitext_full',\n",
    " 'u_mass_full'\n",
    "]"
   ]
  },
  {
   "cell_type": "code",
   "execution_count": 5,
   "metadata": {},
   "outputs": [],
   "source": [
    "task_data = pd.read_csv(Path(DATA_DIR, DATA_FILE))"
   ]
  },
  {
   "cell_type": "code",
   "execution_count": 6,
   "metadata": {},
   "outputs": [],
   "source": [
    "# complete the out-of-sample columns\n",
    "for dataset in [\"wikitext\", \"nytimes\"]:\n",
    "    for metric in [\"c_npmi_10\", \"c_v\"]:\n",
    "        task_data[f\"{metric}_{dataset}_full\"] = task_data[f\"{metric}_{dataset}_full\"].combine_first(task_data[f\"{metric}_full\"])"
   ]
  },
  {
   "cell_type": "code",
   "execution_count": 7,
   "metadata": {},
   "outputs": [],
   "source": [
    "# add the constant for lin. reg\n",
    "task_data = sm.add_constant(task_data)"
   ]
  },
  {
   "cell_type": "code",
   "execution_count": 8,
   "metadata": {},
   "outputs": [],
   "source": [
    "# convert infinite values to nans\n",
    "task_data = task_data.replace(np.inf, np.nan)"
   ]
  },
  {
   "cell_type": "code",
   "execution_count": 12,
   "metadata": {},
   "outputs": [],
   "source": [
    "if FILTER_ON_FAMILIARITY:\n",
    "    task_data = task_data.loc[task_data.confidences_raw == 1]"
   ]
  },
  {
   "source": [
    "## Regression "
   ],
   "cell_type": "markdown",
   "metadata": {}
  },
  {
   "source": [
    "Assess variances by topic. This may help determine if averaging is ok"
   ],
   "cell_type": "markdown",
   "metadata": {}
  },
  {
   "cell_type": "code",
   "execution_count": 13,
   "metadata": {},
   "outputs": [
    {
     "output_type": "stream",
     "name": "stderr",
     "text": [
      "/workspace/.conda/envs/topic-preprocessing/lib/python3.9/site-packages/pandas/plotting/_matplotlib/tools.py:400: MatplotlibDeprecationWarning: \nThe is_first_col function was deprecated in Matplotlib 3.4 and will be removed two minor releases later. Use ax.get_subplotspec().is_first_col() instead.\n  if ax.is_first_col():\n"
     ]
    },
    {
     "output_type": "execute_result",
     "data": {
      "text/plain": [
       "array([<AxesSubplot:title={'center':'intrusions'}>,\n",
       "       <AxesSubplot:title={'center':'ratings'}>], dtype=object)"
      ]
     },
     "metadata": {},
     "execution_count": 13
    },
    {
     "output_type": "display_data",
     "data": {
      "text/plain": "<Figure size 432x288 with 2 Axes>",
      "image/svg+xml": "<?xml version=\"1.0\" encoding=\"utf-8\" standalone=\"no\"?>\n<!DOCTYPE svg PUBLIC \"-//W3C//DTD SVG 1.1//EN\"\n  \"http://www.w3.org/Graphics/SVG/1.1/DTD/svg11.dtd\">\n<svg height=\"274.78375pt\" version=\"1.1\" viewBox=\"0 0 380.069248 274.78375\" width=\"380.069248pt\" xmlns=\"http://www.w3.org/2000/svg\" xmlns:xlink=\"http://www.w3.org/1999/xlink\">\n <metadata>\n  <rdf:RDF xmlns:cc=\"http://creativecommons.org/ns#\" xmlns:dc=\"http://purl.org/dc/elements/1.1/\" xmlns:rdf=\"http://www.w3.org/1999/02/22-rdf-syntax-ns#\">\n   <cc:Work>\n    <dc:type rdf:resource=\"http://purl.org/dc/dcmitype/StillImage\"/>\n    <dc:date>2021-05-26T18:32:03.064075</dc:date>\n    <dc:format>image/svg+xml</dc:format>\n    <dc:creator>\n     <cc:Agent>\n      <dc:title>Matplotlib v3.4.2, https://matplotlib.org/</dc:title>\n     </cc:Agent>\n    </dc:creator>\n   </cc:Work>\n  </rdf:RDF>\n </metadata>\n <defs>\n  <style type=\"text/css\">*{stroke-linecap:butt;stroke-linejoin:round;}</style>\n </defs>\n <g id=\"figure_1\">\n  <g id=\"patch_1\">\n   <path d=\"M 0 274.78375 \nL 380.069248 274.78375 \nL 380.069248 0 \nL 0 0 \nz\n\" style=\"fill:none;\"/>\n  </g>\n  <g id=\"axes_1\">\n   <g id=\"patch_2\">\n    <path d=\"M 26.925 238.318125 \nL 177.18587 238.318125 \nL 177.18587 22.318125 \nL 26.925 22.318125 \nz\n\" style=\"fill:#ffffff;\"/>\n   </g>\n   <g id=\"patch_3\">\n    <path clip-path=\"url(#p4c8fe2b7b4)\" d=\"M 33.75504 238.318125 \nL 47.415119 238.318125 \nL 47.415119 168.920535 \nL 33.75504 168.920535 \nz\n\" style=\"fill:#1f77b4;\"/>\n   </g>\n   <g id=\"patch_4\">\n    <path clip-path=\"url(#p4c8fe2b7b4)\" d=\"M 47.415119 238.318125 \nL 61.075198 238.318125 \nL 61.075198 238.318125 \nL 47.415119 238.318125 \nz\n\" style=\"fill:#1f77b4;\"/>\n   </g>\n   <g id=\"patch_5\">\n    <path clip-path=\"url(#p4c8fe2b7b4)\" d=\"M 61.075198 238.318125 \nL 74.735277 238.318125 \nL 74.735277 238.318125 \nL 61.075198 238.318125 \nz\n\" style=\"fill:#1f77b4;\"/>\n   </g>\n   <g id=\"patch_6\">\n    <path clip-path=\"url(#p4c8fe2b7b4)\" d=\"M 74.735277 238.318125 \nL 88.395356 238.318125 \nL 88.395356 151.571137 \nL 74.735277 151.571137 \nz\n\" style=\"fill:#1f77b4;\"/>\n   </g>\n   <g id=\"patch_7\">\n    <path clip-path=\"url(#p4c8fe2b7b4)\" d=\"M 88.395356 238.318125 \nL 102.055435 238.318125 \nL 102.055435 228.404184 \nL 88.395356 228.404184 \nz\n\" style=\"fill:#1f77b4;\"/>\n   </g>\n   <g id=\"patch_8\">\n    <path clip-path=\"url(#p4c8fe2b7b4)\" d=\"M 102.055435 238.318125 \nL 115.715514 238.318125 \nL 115.715514 141.657196 \nL 102.055435 141.657196 \nz\n\" style=\"fill:#1f77b4;\"/>\n   </g>\n   <g id=\"patch_9\">\n    <path clip-path=\"url(#p4c8fe2b7b4)\" d=\"M 115.715514 238.318125 \nL 129.375593 238.318125 \nL 129.375593 159.006593 \nL 115.715514 159.006593 \nz\n\" style=\"fill:#1f77b4;\"/>\n   </g>\n   <g id=\"patch_10\">\n    <path clip-path=\"url(#p4c8fe2b7b4)\" d=\"M 129.375593 238.318125 \nL 143.035672 238.318125 \nL 143.035672 171.39902 \nL 129.375593 171.39902 \nz\n\" style=\"fill:#1f77b4;\"/>\n   </g>\n   <g id=\"patch_11\">\n    <path clip-path=\"url(#p4c8fe2b7b4)\" d=\"M 143.035672 238.318125 \nL 156.695751 238.318125 \nL 156.695751 111.915371 \nL 143.035672 111.915371 \nz\n\" style=\"fill:#1f77b4;\"/>\n   </g>\n   <g id=\"patch_12\">\n    <path clip-path=\"url(#p4c8fe2b7b4)\" d=\"M 156.695751 238.318125 \nL 170.35583 238.318125 \nL 170.35583 32.603839 \nL 156.695751 32.603839 \nz\n\" style=\"fill:#1f77b4;\"/>\n   </g>\n   <g id=\"matplotlib.axis_1\">\n    <g id=\"xtick_1\">\n     <g id=\"line2d_1\">\n      <defs>\n       <path d=\"M 0 0 \nL 0 3.5 \n\" id=\"mad8ff262c4\" style=\"stroke:#000000;stroke-width:0.8;\"/>\n      </defs>\n      <g>\n       <use style=\"stroke:#000000;stroke-width:0.8;\" x=\"33.75504\" xlink:href=\"#mad8ff262c4\" y=\"238.318125\"/>\n      </g>\n     </g>\n     <g id=\"text_1\">\n      <!-- 0.0 -->\n      <g transform=\"translate(36.514415 261.22125)rotate(-90)scale(0.1 -0.1)\">\n       <defs>\n        <path d=\"M 2034 4250 \nQ 1547 4250 1301 3770 \nQ 1056 3291 1056 2328 \nQ 1056 1369 1301 889 \nQ 1547 409 2034 409 \nQ 2525 409 2770 889 \nQ 3016 1369 3016 2328 \nQ 3016 3291 2770 3770 \nQ 2525 4250 2034 4250 \nz\nM 2034 4750 \nQ 2819 4750 3233 4129 \nQ 3647 3509 3647 2328 \nQ 3647 1150 3233 529 \nQ 2819 -91 2034 -91 \nQ 1250 -91 836 529 \nQ 422 1150 422 2328 \nQ 422 3509 836 4129 \nQ 1250 4750 2034 4750 \nz\n\" id=\"DejaVuSans-30\" transform=\"scale(0.015625)\"/>\n        <path d=\"M 684 794 \nL 1344 794 \nL 1344 0 \nL 684 0 \nL 684 794 \nz\n\" id=\"DejaVuSans-2e\" transform=\"scale(0.015625)\"/>\n       </defs>\n       <use xlink:href=\"#DejaVuSans-30\"/>\n       <use x=\"63.623047\" xlink:href=\"#DejaVuSans-2e\"/>\n       <use x=\"95.410156\" xlink:href=\"#DejaVuSans-30\"/>\n      </g>\n     </g>\n    </g>\n    <g id=\"xtick_2\">\n     <g id=\"line2d_2\">\n      <g>\n       <use style=\"stroke:#000000;stroke-width:0.8;\" x=\"84.866375\" xlink:href=\"#mad8ff262c4\" y=\"238.318125\"/>\n      </g>\n     </g>\n     <g id=\"text_2\">\n      <!-- 0.2 -->\n      <g transform=\"translate(87.62575 261.22125)rotate(-90)scale(0.1 -0.1)\">\n       <defs>\n        <path d=\"M 1228 531 \nL 3431 531 \nL 3431 0 \nL 469 0 \nL 469 531 \nQ 828 903 1448 1529 \nQ 2069 2156 2228 2338 \nQ 2531 2678 2651 2914 \nQ 2772 3150 2772 3378 \nQ 2772 3750 2511 3984 \nQ 2250 4219 1831 4219 \nQ 1534 4219 1204 4116 \nQ 875 4013 500 3803 \nL 500 4441 \nQ 881 4594 1212 4672 \nQ 1544 4750 1819 4750 \nQ 2544 4750 2975 4387 \nQ 3406 4025 3406 3419 \nQ 3406 3131 3298 2873 \nQ 3191 2616 2906 2266 \nQ 2828 2175 2409 1742 \nQ 1991 1309 1228 531 \nz\n\" id=\"DejaVuSans-32\" transform=\"scale(0.015625)\"/>\n       </defs>\n       <use xlink:href=\"#DejaVuSans-30\"/>\n       <use x=\"63.623047\" xlink:href=\"#DejaVuSans-2e\"/>\n       <use x=\"95.410156\" xlink:href=\"#DejaVuSans-32\"/>\n      </g>\n     </g>\n    </g>\n    <g id=\"xtick_3\">\n     <g id=\"line2d_3\">\n      <g>\n       <use style=\"stroke:#000000;stroke-width:0.8;\" x=\"135.977711\" xlink:href=\"#mad8ff262c4\" y=\"238.318125\"/>\n      </g>\n     </g>\n     <g id=\"text_3\">\n      <!-- 0.4 -->\n      <g transform=\"translate(138.737086 261.22125)rotate(-90)scale(0.1 -0.1)\">\n       <defs>\n        <path d=\"M 2419 4116 \nL 825 1625 \nL 2419 1625 \nL 2419 4116 \nz\nM 2253 4666 \nL 3047 4666 \nL 3047 1625 \nL 3713 1625 \nL 3713 1100 \nL 3047 1100 \nL 3047 0 \nL 2419 0 \nL 2419 1100 \nL 313 1100 \nL 313 1709 \nL 2253 4666 \nz\n\" id=\"DejaVuSans-34\" transform=\"scale(0.015625)\"/>\n       </defs>\n       <use xlink:href=\"#DejaVuSans-30\"/>\n       <use x=\"63.623047\" xlink:href=\"#DejaVuSans-2e\"/>\n       <use x=\"95.410156\" xlink:href=\"#DejaVuSans-34\"/>\n      </g>\n     </g>\n    </g>\n   </g>\n   <g id=\"matplotlib.axis_2\">\n    <g id=\"ytick_1\">\n     <g id=\"line2d_4\">\n      <defs>\n       <path d=\"M 0 0 \nL -3.5 0 \n\" id=\"m866250a419\" style=\"stroke:#000000;stroke-width:0.8;\"/>\n      </defs>\n      <g>\n       <use style=\"stroke:#000000;stroke-width:0.8;\" x=\"26.925\" xlink:href=\"#m866250a419\" y=\"238.318125\"/>\n      </g>\n     </g>\n     <g id=\"text_4\">\n      <!-- 0 -->\n      <g transform=\"translate(13.5625 242.117344)scale(0.1 -0.1)\">\n       <use xlink:href=\"#DejaVuSans-30\"/>\n      </g>\n     </g>\n    </g>\n    <g id=\"ytick_2\">\n     <g id=\"line2d_5\">\n      <g>\n       <use style=\"stroke:#000000;stroke-width:0.8;\" x=\"26.925\" xlink:href=\"#m866250a419\" y=\"213.533271\"/>\n      </g>\n     </g>\n     <g id=\"text_5\">\n      <!-- 10 -->\n      <g transform=\"translate(7.2 217.33249)scale(0.1 -0.1)\">\n       <defs>\n        <path d=\"M 794 531 \nL 1825 531 \nL 1825 4091 \nL 703 3866 \nL 703 4441 \nL 1819 4666 \nL 2450 4666 \nL 2450 531 \nL 3481 531 \nL 3481 0 \nL 794 0 \nL 794 531 \nz\n\" id=\"DejaVuSans-31\" transform=\"scale(0.015625)\"/>\n       </defs>\n       <use xlink:href=\"#DejaVuSans-31\"/>\n       <use x=\"63.623047\" xlink:href=\"#DejaVuSans-30\"/>\n      </g>\n     </g>\n    </g>\n    <g id=\"ytick_3\">\n     <g id=\"line2d_6\">\n      <g>\n       <use style=\"stroke:#000000;stroke-width:0.8;\" x=\"26.925\" xlink:href=\"#m866250a419\" y=\"188.748418\"/>\n      </g>\n     </g>\n     <g id=\"text_6\">\n      <!-- 20 -->\n      <g transform=\"translate(7.2 192.547636)scale(0.1 -0.1)\">\n       <use xlink:href=\"#DejaVuSans-32\"/>\n       <use x=\"63.623047\" xlink:href=\"#DejaVuSans-30\"/>\n      </g>\n     </g>\n    </g>\n    <g id=\"ytick_4\">\n     <g id=\"line2d_7\">\n      <g>\n       <use style=\"stroke:#000000;stroke-width:0.8;\" x=\"26.925\" xlink:href=\"#m866250a419\" y=\"163.963564\"/>\n      </g>\n     </g>\n     <g id=\"text_7\">\n      <!-- 30 -->\n      <g transform=\"translate(7.2 167.762783)scale(0.1 -0.1)\">\n       <defs>\n        <path d=\"M 2597 2516 \nQ 3050 2419 3304 2112 \nQ 3559 1806 3559 1356 \nQ 3559 666 3084 287 \nQ 2609 -91 1734 -91 \nQ 1441 -91 1130 -33 \nQ 819 25 488 141 \nL 488 750 \nQ 750 597 1062 519 \nQ 1375 441 1716 441 \nQ 2309 441 2620 675 \nQ 2931 909 2931 1356 \nQ 2931 1769 2642 2001 \nQ 2353 2234 1838 2234 \nL 1294 2234 \nL 1294 2753 \nL 1863 2753 \nQ 2328 2753 2575 2939 \nQ 2822 3125 2822 3475 \nQ 2822 3834 2567 4026 \nQ 2313 4219 1838 4219 \nQ 1578 4219 1281 4162 \nQ 984 4106 628 3988 \nL 628 4550 \nQ 988 4650 1302 4700 \nQ 1616 4750 1894 4750 \nQ 2613 4750 3031 4423 \nQ 3450 4097 3450 3541 \nQ 3450 3153 3228 2886 \nQ 3006 2619 2597 2516 \nz\n\" id=\"DejaVuSans-33\" transform=\"scale(0.015625)\"/>\n       </defs>\n       <use xlink:href=\"#DejaVuSans-33\"/>\n       <use x=\"63.623047\" xlink:href=\"#DejaVuSans-30\"/>\n      </g>\n     </g>\n    </g>\n    <g id=\"ytick_5\">\n     <g id=\"line2d_8\">\n      <g>\n       <use style=\"stroke:#000000;stroke-width:0.8;\" x=\"26.925\" xlink:href=\"#m866250a419\" y=\"139.17871\"/>\n      </g>\n     </g>\n     <g id=\"text_8\">\n      <!-- 40 -->\n      <g transform=\"translate(7.2 142.977929)scale(0.1 -0.1)\">\n       <use xlink:href=\"#DejaVuSans-34\"/>\n       <use x=\"63.623047\" xlink:href=\"#DejaVuSans-30\"/>\n      </g>\n     </g>\n    </g>\n    <g id=\"ytick_6\">\n     <g id=\"line2d_9\">\n      <g>\n       <use style=\"stroke:#000000;stroke-width:0.8;\" x=\"26.925\" xlink:href=\"#m866250a419\" y=\"114.393856\"/>\n      </g>\n     </g>\n     <g id=\"text_9\">\n      <!-- 50 -->\n      <g transform=\"translate(7.2 118.193075)scale(0.1 -0.1)\">\n       <defs>\n        <path d=\"M 691 4666 \nL 3169 4666 \nL 3169 4134 \nL 1269 4134 \nL 1269 2991 \nQ 1406 3038 1543 3061 \nQ 1681 3084 1819 3084 \nQ 2600 3084 3056 2656 \nQ 3513 2228 3513 1497 \nQ 3513 744 3044 326 \nQ 2575 -91 1722 -91 \nQ 1428 -91 1123 -41 \nQ 819 9 494 109 \nL 494 744 \nQ 775 591 1075 516 \nQ 1375 441 1709 441 \nQ 2250 441 2565 725 \nQ 2881 1009 2881 1497 \nQ 2881 1984 2565 2268 \nQ 2250 2553 1709 2553 \nQ 1456 2553 1204 2497 \nQ 953 2441 691 2322 \nL 691 4666 \nz\n\" id=\"DejaVuSans-35\" transform=\"scale(0.015625)\"/>\n       </defs>\n       <use xlink:href=\"#DejaVuSans-35\"/>\n       <use x=\"63.623047\" xlink:href=\"#DejaVuSans-30\"/>\n      </g>\n     </g>\n    </g>\n    <g id=\"ytick_7\">\n     <g id=\"line2d_10\">\n      <g>\n       <use style=\"stroke:#000000;stroke-width:0.8;\" x=\"26.925\" xlink:href=\"#m866250a419\" y=\"89.609003\"/>\n      </g>\n     </g>\n     <g id=\"text_10\">\n      <!-- 60 -->\n      <g transform=\"translate(7.2 93.408222)scale(0.1 -0.1)\">\n       <defs>\n        <path d=\"M 2113 2584 \nQ 1688 2584 1439 2293 \nQ 1191 2003 1191 1497 \nQ 1191 994 1439 701 \nQ 1688 409 2113 409 \nQ 2538 409 2786 701 \nQ 3034 994 3034 1497 \nQ 3034 2003 2786 2293 \nQ 2538 2584 2113 2584 \nz\nM 3366 4563 \nL 3366 3988 \nQ 3128 4100 2886 4159 \nQ 2644 4219 2406 4219 \nQ 1781 4219 1451 3797 \nQ 1122 3375 1075 2522 \nQ 1259 2794 1537 2939 \nQ 1816 3084 2150 3084 \nQ 2853 3084 3261 2657 \nQ 3669 2231 3669 1497 \nQ 3669 778 3244 343 \nQ 2819 -91 2113 -91 \nQ 1303 -91 875 529 \nQ 447 1150 447 2328 \nQ 447 3434 972 4092 \nQ 1497 4750 2381 4750 \nQ 2619 4750 2861 4703 \nQ 3103 4656 3366 4563 \nz\n\" id=\"DejaVuSans-36\" transform=\"scale(0.015625)\"/>\n       </defs>\n       <use xlink:href=\"#DejaVuSans-36\"/>\n       <use x=\"63.623047\" xlink:href=\"#DejaVuSans-30\"/>\n      </g>\n     </g>\n    </g>\n    <g id=\"ytick_8\">\n     <g id=\"line2d_11\">\n      <g>\n       <use style=\"stroke:#000000;stroke-width:0.8;\" x=\"26.925\" xlink:href=\"#m866250a419\" y=\"64.824149\"/>\n      </g>\n     </g>\n     <g id=\"text_11\">\n      <!-- 70 -->\n      <g transform=\"translate(7.2 68.623368)scale(0.1 -0.1)\">\n       <defs>\n        <path d=\"M 525 4666 \nL 3525 4666 \nL 3525 4397 \nL 1831 0 \nL 1172 0 \nL 2766 4134 \nL 525 4134 \nL 525 4666 \nz\n\" id=\"DejaVuSans-37\" transform=\"scale(0.015625)\"/>\n       </defs>\n       <use xlink:href=\"#DejaVuSans-37\"/>\n       <use x=\"63.623047\" xlink:href=\"#DejaVuSans-30\"/>\n      </g>\n     </g>\n    </g>\n    <g id=\"ytick_9\">\n     <g id=\"line2d_12\">\n      <g>\n       <use style=\"stroke:#000000;stroke-width:0.8;\" x=\"26.925\" xlink:href=\"#m866250a419\" y=\"40.039295\"/>\n      </g>\n     </g>\n     <g id=\"text_12\">\n      <!-- 80 -->\n      <g transform=\"translate(7.2 43.838514)scale(0.1 -0.1)\">\n       <defs>\n        <path d=\"M 2034 2216 \nQ 1584 2216 1326 1975 \nQ 1069 1734 1069 1313 \nQ 1069 891 1326 650 \nQ 1584 409 2034 409 \nQ 2484 409 2743 651 \nQ 3003 894 3003 1313 \nQ 3003 1734 2745 1975 \nQ 2488 2216 2034 2216 \nz\nM 1403 2484 \nQ 997 2584 770 2862 \nQ 544 3141 544 3541 \nQ 544 4100 942 4425 \nQ 1341 4750 2034 4750 \nQ 2731 4750 3128 4425 \nQ 3525 4100 3525 3541 \nQ 3525 3141 3298 2862 \nQ 3072 2584 2669 2484 \nQ 3125 2378 3379 2068 \nQ 3634 1759 3634 1313 \nQ 3634 634 3220 271 \nQ 2806 -91 2034 -91 \nQ 1263 -91 848 271 \nQ 434 634 434 1313 \nQ 434 1759 690 2068 \nQ 947 2378 1403 2484 \nz\nM 1172 3481 \nQ 1172 3119 1398 2916 \nQ 1625 2713 2034 2713 \nQ 2441 2713 2670 2916 \nQ 2900 3119 2900 3481 \nQ 2900 3844 2670 4047 \nQ 2441 4250 2034 4250 \nQ 1625 4250 1398 4047 \nQ 1172 3844 1172 3481 \nz\n\" id=\"DejaVuSans-38\" transform=\"scale(0.015625)\"/>\n       </defs>\n       <use xlink:href=\"#DejaVuSans-38\"/>\n       <use x=\"63.623047\" xlink:href=\"#DejaVuSans-30\"/>\n      </g>\n     </g>\n    </g>\n   </g>\n   <g id=\"patch_13\">\n    <path d=\"M 26.925 238.318125 \nL 26.925 22.318125 \n\" style=\"fill:none;stroke:#000000;stroke-linecap:square;stroke-linejoin:miter;stroke-width:0.8;\"/>\n   </g>\n   <g id=\"patch_14\">\n    <path d=\"M 177.18587 238.318125 \nL 177.18587 22.318125 \n\" style=\"fill:none;stroke:#000000;stroke-linecap:square;stroke-linejoin:miter;stroke-width:0.8;\"/>\n   </g>\n   <g id=\"patch_15\">\n    <path d=\"M 26.925 238.318125 \nL 177.18587 238.318125 \n\" style=\"fill:none;stroke:#000000;stroke-linecap:square;stroke-linejoin:miter;stroke-width:0.8;\"/>\n   </g>\n   <g id=\"patch_16\">\n    <path d=\"M 26.925 22.318125 \nL 177.18587 22.318125 \n\" style=\"fill:none;stroke:#000000;stroke-linecap:square;stroke-linejoin:miter;stroke-width:0.8;\"/>\n   </g>\n   <g id=\"text_13\">\n    <!-- intrusions -->\n    <g transform=\"translate(72.572935 16.318125)scale(0.12 -0.12)\">\n     <defs>\n      <path d=\"M 603 3500 \nL 1178 3500 \nL 1178 0 \nL 603 0 \nL 603 3500 \nz\nM 603 4863 \nL 1178 4863 \nL 1178 4134 \nL 603 4134 \nL 603 4863 \nz\n\" id=\"DejaVuSans-69\" transform=\"scale(0.015625)\"/>\n      <path d=\"M 3513 2113 \nL 3513 0 \nL 2938 0 \nL 2938 2094 \nQ 2938 2591 2744 2837 \nQ 2550 3084 2163 3084 \nQ 1697 3084 1428 2787 \nQ 1159 2491 1159 1978 \nL 1159 0 \nL 581 0 \nL 581 3500 \nL 1159 3500 \nL 1159 2956 \nQ 1366 3272 1645 3428 \nQ 1925 3584 2291 3584 \nQ 2894 3584 3203 3211 \nQ 3513 2838 3513 2113 \nz\n\" id=\"DejaVuSans-6e\" transform=\"scale(0.015625)\"/>\n      <path d=\"M 1172 4494 \nL 1172 3500 \nL 2356 3500 \nL 2356 3053 \nL 1172 3053 \nL 1172 1153 \nQ 1172 725 1289 603 \nQ 1406 481 1766 481 \nL 2356 481 \nL 2356 0 \nL 1766 0 \nQ 1100 0 847 248 \nQ 594 497 594 1153 \nL 594 3053 \nL 172 3053 \nL 172 3500 \nL 594 3500 \nL 594 4494 \nL 1172 4494 \nz\n\" id=\"DejaVuSans-74\" transform=\"scale(0.015625)\"/>\n      <path d=\"M 2631 2963 \nQ 2534 3019 2420 3045 \nQ 2306 3072 2169 3072 \nQ 1681 3072 1420 2755 \nQ 1159 2438 1159 1844 \nL 1159 0 \nL 581 0 \nL 581 3500 \nL 1159 3500 \nL 1159 2956 \nQ 1341 3275 1631 3429 \nQ 1922 3584 2338 3584 \nQ 2397 3584 2469 3576 \nQ 2541 3569 2628 3553 \nL 2631 2963 \nz\n\" id=\"DejaVuSans-72\" transform=\"scale(0.015625)\"/>\n      <path d=\"M 544 1381 \nL 544 3500 \nL 1119 3500 \nL 1119 1403 \nQ 1119 906 1312 657 \nQ 1506 409 1894 409 \nQ 2359 409 2629 706 \nQ 2900 1003 2900 1516 \nL 2900 3500 \nL 3475 3500 \nL 3475 0 \nL 2900 0 \nL 2900 538 \nQ 2691 219 2414 64 \nQ 2138 -91 1772 -91 \nQ 1169 -91 856 284 \nQ 544 659 544 1381 \nz\nM 1991 3584 \nL 1991 3584 \nz\n\" id=\"DejaVuSans-75\" transform=\"scale(0.015625)\"/>\n      <path d=\"M 2834 3397 \nL 2834 2853 \nQ 2591 2978 2328 3040 \nQ 2066 3103 1784 3103 \nQ 1356 3103 1142 2972 \nQ 928 2841 928 2578 \nQ 928 2378 1081 2264 \nQ 1234 2150 1697 2047 \nL 1894 2003 \nQ 2506 1872 2764 1633 \nQ 3022 1394 3022 966 \nQ 3022 478 2636 193 \nQ 2250 -91 1575 -91 \nQ 1294 -91 989 -36 \nQ 684 19 347 128 \nL 347 722 \nQ 666 556 975 473 \nQ 1284 391 1588 391 \nQ 1994 391 2212 530 \nQ 2431 669 2431 922 \nQ 2431 1156 2273 1281 \nQ 2116 1406 1581 1522 \nL 1381 1569 \nQ 847 1681 609 1914 \nQ 372 2147 372 2553 \nQ 372 3047 722 3315 \nQ 1072 3584 1716 3584 \nQ 2034 3584 2315 3537 \nQ 2597 3491 2834 3397 \nz\n\" id=\"DejaVuSans-73\" transform=\"scale(0.015625)\"/>\n      <path d=\"M 1959 3097 \nQ 1497 3097 1228 2736 \nQ 959 2375 959 1747 \nQ 959 1119 1226 758 \nQ 1494 397 1959 397 \nQ 2419 397 2687 759 \nQ 2956 1122 2956 1747 \nQ 2956 2369 2687 2733 \nQ 2419 3097 1959 3097 \nz\nM 1959 3584 \nQ 2709 3584 3137 3096 \nQ 3566 2609 3566 1747 \nQ 3566 888 3137 398 \nQ 2709 -91 1959 -91 \nQ 1206 -91 779 398 \nQ 353 888 353 1747 \nQ 353 2609 779 3096 \nQ 1206 3584 1959 3584 \nz\n\" id=\"DejaVuSans-6f\" transform=\"scale(0.015625)\"/>\n     </defs>\n     <use xlink:href=\"#DejaVuSans-69\"/>\n     <use x=\"27.783203\" xlink:href=\"#DejaVuSans-6e\"/>\n     <use x=\"91.162109\" xlink:href=\"#DejaVuSans-74\"/>\n     <use x=\"130.371094\" xlink:href=\"#DejaVuSans-72\"/>\n     <use x=\"171.484375\" xlink:href=\"#DejaVuSans-75\"/>\n     <use x=\"234.863281\" xlink:href=\"#DejaVuSans-73\"/>\n     <use x=\"286.962891\" xlink:href=\"#DejaVuSans-69\"/>\n     <use x=\"314.746094\" xlink:href=\"#DejaVuSans-6f\"/>\n     <use x=\"375.927734\" xlink:href=\"#DejaVuSans-6e\"/>\n     <use x=\"439.306641\" xlink:href=\"#DejaVuSans-73\"/>\n    </g>\n   </g>\n  </g>\n  <g id=\"axes_2\">\n   <g id=\"patch_17\">\n    <path d=\"M 222.26413 238.318125 \nL 372.525 238.318125 \nL 372.525 22.318125 \nL 222.26413 22.318125 \nz\n\" style=\"fill:#ffffff;\"/>\n   </g>\n   <g id=\"patch_18\">\n    <path clip-path=\"url(#p4c3cb1e1ea)\" d=\"M 229.09417 238.318125 \nL 242.754249 238.318125 \nL 242.754249 32.603839 \nL 229.09417 32.603839 \nz\n\" style=\"fill:#1f77b4;\"/>\n   </g>\n   <g id=\"patch_19\">\n    <path clip-path=\"url(#p4c3cb1e1ea)\" d=\"M 242.754249 238.318125 \nL 256.414328 238.318125 \nL 256.414328 238.318125 \nL 242.754249 238.318125 \nz\n\" style=\"fill:#1f77b4;\"/>\n   </g>\n   <g id=\"patch_20\">\n    <path clip-path=\"url(#p4c3cb1e1ea)\" d=\"M 256.414328 238.318125 \nL 270.074407 238.318125 \nL 270.074407 142.807921 \nL 256.414328 142.807921 \nz\n\" style=\"fill:#1f77b4;\"/>\n   </g>\n   <g id=\"patch_21\">\n    <path clip-path=\"url(#p4c3cb1e1ea)\" d=\"M 270.074407 238.318125 \nL 283.734486 238.318125 \nL 283.734486 87.70588 \nL 270.074407 87.70588 \nz\n\" style=\"fill:#1f77b4;\"/>\n   </g>\n   <g id=\"patch_22\">\n    <path clip-path=\"url(#p4c3cb1e1ea)\" d=\"M 283.734486 238.318125 \nL 297.394565 238.318125 \nL 297.394565 32.603839 \nL 283.734486 32.603839 \nz\n\" style=\"fill:#1f77b4;\"/>\n   </g>\n   <g id=\"patch_23\">\n    <path clip-path=\"url(#p4c3cb1e1ea)\" d=\"M 297.394565 238.318125 \nL 311.054644 238.318125 \nL 311.054644 50.971186 \nL 297.394565 50.971186 \nz\n\" style=\"fill:#1f77b4;\"/>\n   </g>\n   <g id=\"patch_24\">\n    <path clip-path=\"url(#p4c3cb1e1ea)\" d=\"M 311.054644 238.318125 \nL 324.714723 238.318125 \nL 324.714723 124.440574 \nL 311.054644 124.440574 \nz\n\" style=\"fill:#1f77b4;\"/>\n   </g>\n   <g id=\"patch_25\">\n    <path clip-path=\"url(#p4c3cb1e1ea)\" d=\"M 324.714723 238.318125 \nL 338.374802 238.318125 \nL 338.374802 146.48139 \nL 324.714723 146.48139 \nz\n\" style=\"fill:#1f77b4;\"/>\n   </g>\n   <g id=\"patch_26\">\n    <path clip-path=\"url(#p4c3cb1e1ea)\" d=\"M 338.374802 238.318125 \nL 352.034881 238.318125 \nL 352.034881 212.603839 \nL 338.374802 212.603839 \nz\n\" style=\"fill:#1f77b4;\"/>\n   </g>\n   <g id=\"patch_27\">\n    <path clip-path=\"url(#p4c3cb1e1ea)\" d=\"M 352.034881 238.318125 \nL 365.69496 238.318125 \nL 365.69496 223.624247 \nL 352.034881 223.624247 \nz\n\" style=\"fill:#1f77b4;\"/>\n   </g>\n   <g id=\"matplotlib.axis_3\">\n    <g id=\"xtick_4\">\n     <g id=\"line2d_13\">\n      <g>\n       <use style=\"stroke:#000000;stroke-width:0.8;\" x=\"229.09417\" xlink:href=\"#mad8ff262c4\" y=\"238.318125\"/>\n      </g>\n     </g>\n     <g id=\"text_14\">\n      <!-- 0.00 -->\n      <g transform=\"translate(231.853545 267.58375)rotate(-90)scale(0.1 -0.1)\">\n       <use xlink:href=\"#DejaVuSans-30\"/>\n       <use x=\"63.623047\" xlink:href=\"#DejaVuSans-2e\"/>\n       <use x=\"95.410156\" xlink:href=\"#DejaVuSans-30\"/>\n       <use x=\"159.033203\" xlink:href=\"#DejaVuSans-30\"/>\n      </g>\n     </g>\n    </g>\n    <g id=\"xtick_5\">\n     <g id=\"line2d_14\">\n      <g>\n       <use style=\"stroke:#000000;stroke-width:0.8;\" x=\"263.828174\" xlink:href=\"#mad8ff262c4\" y=\"238.318125\"/>\n      </g>\n     </g>\n     <g id=\"text_15\">\n      <!-- 0.25 -->\n      <g transform=\"translate(266.587549 267.58375)rotate(-90)scale(0.1 -0.1)\">\n       <use xlink:href=\"#DejaVuSans-30\"/>\n       <use x=\"63.623047\" xlink:href=\"#DejaVuSans-2e\"/>\n       <use x=\"95.410156\" xlink:href=\"#DejaVuSans-32\"/>\n       <use x=\"159.033203\" xlink:href=\"#DejaVuSans-35\"/>\n      </g>\n     </g>\n    </g>\n    <g id=\"xtick_6\">\n     <g id=\"line2d_15\">\n      <g>\n       <use style=\"stroke:#000000;stroke-width:0.8;\" x=\"298.562178\" xlink:href=\"#mad8ff262c4\" y=\"238.318125\"/>\n      </g>\n     </g>\n     <g id=\"text_16\">\n      <!-- 0.50 -->\n      <g transform=\"translate(301.321553 267.58375)rotate(-90)scale(0.1 -0.1)\">\n       <use xlink:href=\"#DejaVuSans-30\"/>\n       <use x=\"63.623047\" xlink:href=\"#DejaVuSans-2e\"/>\n       <use x=\"95.410156\" xlink:href=\"#DejaVuSans-35\"/>\n       <use x=\"159.033203\" xlink:href=\"#DejaVuSans-30\"/>\n      </g>\n     </g>\n    </g>\n    <g id=\"xtick_7\">\n     <g id=\"line2d_16\">\n      <g>\n       <use style=\"stroke:#000000;stroke-width:0.8;\" x=\"333.296182\" xlink:href=\"#mad8ff262c4\" y=\"238.318125\"/>\n      </g>\n     </g>\n     <g id=\"text_17\">\n      <!-- 0.75 -->\n      <g transform=\"translate(336.055557 267.58375)rotate(-90)scale(0.1 -0.1)\">\n       <use xlink:href=\"#DejaVuSans-30\"/>\n       <use x=\"63.623047\" xlink:href=\"#DejaVuSans-2e\"/>\n       <use x=\"95.410156\" xlink:href=\"#DejaVuSans-37\"/>\n       <use x=\"159.033203\" xlink:href=\"#DejaVuSans-35\"/>\n      </g>\n     </g>\n    </g>\n    <g id=\"xtick_8\">\n     <g id=\"line2d_17\">\n      <g>\n       <use style=\"stroke:#000000;stroke-width:0.8;\" x=\"368.030186\" xlink:href=\"#mad8ff262c4\" y=\"238.318125\"/>\n      </g>\n     </g>\n     <g id=\"text_18\">\n      <!-- 1.00 -->\n      <g transform=\"translate(370.789561 267.58375)rotate(-90)scale(0.1 -0.1)\">\n       <use xlink:href=\"#DejaVuSans-31\"/>\n       <use x=\"63.623047\" xlink:href=\"#DejaVuSans-2e\"/>\n       <use x=\"95.410156\" xlink:href=\"#DejaVuSans-30\"/>\n       <use x=\"159.033203\" xlink:href=\"#DejaVuSans-30\"/>\n      </g>\n     </g>\n    </g>\n   </g>\n   <g id=\"matplotlib.axis_4\">\n    <g id=\"ytick_10\">\n     <g id=\"line2d_18\">\n      <g>\n       <use style=\"stroke:#000000;stroke-width:0.8;\" x=\"222.26413\" xlink:href=\"#m866250a419\" y=\"238.318125\"/>\n      </g>\n     </g>\n     <g id=\"text_19\">\n      <!-- 0 -->\n      <g transform=\"translate(208.90163 242.117344)scale(0.1 -0.1)\">\n       <use xlink:href=\"#DejaVuSans-30\"/>\n      </g>\n     </g>\n    </g>\n    <g id=\"ytick_11\">\n     <g id=\"line2d_19\">\n      <g>\n       <use style=\"stroke:#000000;stroke-width:0.8;\" x=\"222.26413\" xlink:href=\"#m866250a419\" y=\"201.583431\"/>\n      </g>\n     </g>\n     <g id=\"text_20\">\n      <!-- 10 -->\n      <g transform=\"translate(202.53913 205.38265)scale(0.1 -0.1)\">\n       <use xlink:href=\"#DejaVuSans-31\"/>\n       <use x=\"63.623047\" xlink:href=\"#DejaVuSans-30\"/>\n      </g>\n     </g>\n    </g>\n    <g id=\"ytick_12\">\n     <g id=\"line2d_20\">\n      <g>\n       <use style=\"stroke:#000000;stroke-width:0.8;\" x=\"222.26413\" xlink:href=\"#m866250a419\" y=\"164.848737\"/>\n      </g>\n     </g>\n     <g id=\"text_21\">\n      <!-- 20 -->\n      <g transform=\"translate(202.53913 168.647956)scale(0.1 -0.1)\">\n       <use xlink:href=\"#DejaVuSans-32\"/>\n       <use x=\"63.623047\" xlink:href=\"#DejaVuSans-30\"/>\n      </g>\n     </g>\n    </g>\n    <g id=\"ytick_13\">\n     <g id=\"line2d_21\">\n      <g>\n       <use style=\"stroke:#000000;stroke-width:0.8;\" x=\"222.26413\" xlink:href=\"#m866250a419\" y=\"128.114043\"/>\n      </g>\n     </g>\n     <g id=\"text_22\">\n      <!-- 30 -->\n      <g transform=\"translate(202.53913 131.913262)scale(0.1 -0.1)\">\n       <use xlink:href=\"#DejaVuSans-33\"/>\n       <use x=\"63.623047\" xlink:href=\"#DejaVuSans-30\"/>\n      </g>\n     </g>\n    </g>\n    <g id=\"ytick_14\">\n     <g id=\"line2d_22\">\n      <g>\n       <use style=\"stroke:#000000;stroke-width:0.8;\" x=\"222.26413\" xlink:href=\"#m866250a419\" y=\"91.379349\"/>\n      </g>\n     </g>\n     <g id=\"text_23\">\n      <!-- 40 -->\n      <g transform=\"translate(202.53913 95.178568)scale(0.1 -0.1)\">\n       <use xlink:href=\"#DejaVuSans-34\"/>\n       <use x=\"63.623047\" xlink:href=\"#DejaVuSans-30\"/>\n      </g>\n     </g>\n    </g>\n    <g id=\"ytick_15\">\n     <g id=\"line2d_23\">\n      <g>\n       <use style=\"stroke:#000000;stroke-width:0.8;\" x=\"222.26413\" xlink:href=\"#m866250a419\" y=\"54.644656\"/>\n      </g>\n     </g>\n     <g id=\"text_24\">\n      <!-- 50 -->\n      <g transform=\"translate(202.53913 58.443874)scale(0.1 -0.1)\">\n       <use xlink:href=\"#DejaVuSans-35\"/>\n       <use x=\"63.623047\" xlink:href=\"#DejaVuSans-30\"/>\n      </g>\n     </g>\n    </g>\n   </g>\n   <g id=\"patch_28\">\n    <path d=\"M 222.26413 238.318125 \nL 222.26413 22.318125 \n\" style=\"fill:none;stroke:#000000;stroke-linecap:square;stroke-linejoin:miter;stroke-width:0.8;\"/>\n   </g>\n   <g id=\"patch_29\">\n    <path d=\"M 372.525 238.318125 \nL 372.525 22.318125 \n\" style=\"fill:none;stroke:#000000;stroke-linecap:square;stroke-linejoin:miter;stroke-width:0.8;\"/>\n   </g>\n   <g id=\"patch_30\">\n    <path d=\"M 222.26413 238.318125 \nL 372.525 238.318125 \n\" style=\"fill:none;stroke:#000000;stroke-linecap:square;stroke-linejoin:miter;stroke-width:0.8;\"/>\n   </g>\n   <g id=\"patch_31\">\n    <path d=\"M 222.26413 22.318125 \nL 372.525 22.318125 \n\" style=\"fill:none;stroke:#000000;stroke-linecap:square;stroke-linejoin:miter;stroke-width:0.8;\"/>\n   </g>\n   <g id=\"text_25\">\n    <!-- ratings -->\n    <g transform=\"translate(276.494878 16.318125)scale(0.12 -0.12)\">\n     <defs>\n      <path d=\"M 2194 1759 \nQ 1497 1759 1228 1600 \nQ 959 1441 959 1056 \nQ 959 750 1161 570 \nQ 1363 391 1709 391 \nQ 2188 391 2477 730 \nQ 2766 1069 2766 1631 \nL 2766 1759 \nL 2194 1759 \nz\nM 3341 1997 \nL 3341 0 \nL 2766 0 \nL 2766 531 \nQ 2569 213 2275 61 \nQ 1981 -91 1556 -91 \nQ 1019 -91 701 211 \nQ 384 513 384 1019 \nQ 384 1609 779 1909 \nQ 1175 2209 1959 2209 \nL 2766 2209 \nL 2766 2266 \nQ 2766 2663 2505 2880 \nQ 2244 3097 1772 3097 \nQ 1472 3097 1187 3025 \nQ 903 2953 641 2809 \nL 641 3341 \nQ 956 3463 1253 3523 \nQ 1550 3584 1831 3584 \nQ 2591 3584 2966 3190 \nQ 3341 2797 3341 1997 \nz\n\" id=\"DejaVuSans-61\" transform=\"scale(0.015625)\"/>\n      <path d=\"M 2906 1791 \nQ 2906 2416 2648 2759 \nQ 2391 3103 1925 3103 \nQ 1463 3103 1205 2759 \nQ 947 2416 947 1791 \nQ 947 1169 1205 825 \nQ 1463 481 1925 481 \nQ 2391 481 2648 825 \nQ 2906 1169 2906 1791 \nz\nM 3481 434 \nQ 3481 -459 3084 -895 \nQ 2688 -1331 1869 -1331 \nQ 1566 -1331 1297 -1286 \nQ 1028 -1241 775 -1147 \nL 775 -588 \nQ 1028 -725 1275 -790 \nQ 1522 -856 1778 -856 \nQ 2344 -856 2625 -561 \nQ 2906 -266 2906 331 \nL 2906 616 \nQ 2728 306 2450 153 \nQ 2172 0 1784 0 \nQ 1141 0 747 490 \nQ 353 981 353 1791 \nQ 353 2603 747 3093 \nQ 1141 3584 1784 3584 \nQ 2172 3584 2450 3431 \nQ 2728 3278 2906 2969 \nL 2906 3500 \nL 3481 3500 \nL 3481 434 \nz\n\" id=\"DejaVuSans-67\" transform=\"scale(0.015625)\"/>\n     </defs>\n     <use xlink:href=\"#DejaVuSans-72\"/>\n     <use x=\"41.113281\" xlink:href=\"#DejaVuSans-61\"/>\n     <use x=\"102.392578\" xlink:href=\"#DejaVuSans-74\"/>\n     <use x=\"141.601562\" xlink:href=\"#DejaVuSans-69\"/>\n     <use x=\"169.384766\" xlink:href=\"#DejaVuSans-6e\"/>\n     <use x=\"232.763672\" xlink:href=\"#DejaVuSans-67\"/>\n     <use x=\"296.240234\" xlink:href=\"#DejaVuSans-73\"/>\n    </g>\n   </g>\n  </g>\n </g>\n <defs>\n  <clipPath id=\"p4c8fe2b7b4\">\n   <rect height=\"216\" width=\"150.26087\" x=\"26.925\" y=\"22.318125\"/>\n  </clipPath>\n  <clipPath id=\"p4c3cb1e1ea\">\n   <rect height=\"216\" width=\"150.26087\" x=\"222.26413\" y=\"22.318125\"/>\n  </clipPath>\n </defs>\n</svg>\n",
      "image/png": "[encoded data removed]"
     },
     "metadata": {
      "needs_background": "light"
     }
    }
   ],
   "source": [
    "topic_stds = task_data.groupby(['task', 'dataset', 'model', 'topic_idx']).agg({\"scores_raw\": \"std\"}).reset_index()\n",
    "topic_stds[\"scores_raw\"].hist(by=topic_stds[\"task\"])"
   ]
  },
  {
   "source": [
    " First, simple linear regression (ignoring model effects)"
   ],
   "cell_type": "markdown",
   "metadata": {}
  },
  {
   "cell_type": "code",
   "execution_count": 25,
   "metadata": {
    "tags": []
   },
   "outputs": [],
   "source": [
    "AVERAGE_ANNOTATIONS = False\n",
    "FILTER_ON_FAMILIARITY = False\n",
    "DROP_NA = False\n",
    "USE_OLS = True\n",
    "ALPHA = 0.05\n",
    "np.random.seed(42)\n",
    "rows = []\n",
    "for task in [\"ratings\", \"intrusions\"]:\n",
    "    for dataset in [\"wikitext\", \"nytimes\", \"all\"]:\n",
    "        data_df = task_data.loc[task_data.task == task]\n",
    "        if dataset != \"all\":\n",
    "            data_df = data_df.loc[data_df.dataset == dataset]\n",
    "        if FILTER_ON_FAMILIARITY:\n",
    "            data_df = data_df.loc[data_df.confidences_raw == 1]\n",
    "\n",
    "        # run regressions for each metric\n",
    "        for i, metric in enumerate(auto_metric_names):\n",
    "            #print(f\"\\n===={task}, {dataset}, {metric}====\\n\")\n",
    "            if dataset in metric:\n",
    "                continue # don't re-do the internal\n",
    "            if DROP_NA:\n",
    "                df = data_df.dropna(subset=[metric])\n",
    "            else:\n",
    "                df = data_df.fillna(0)\n",
    "            if AVERAGE_ANNOTATIONS:\n",
    "                df = df.groupby([\"model\", \"topic_idx\"]).mean().reset_index()\n",
    "                mod = sm.OLS(df[\"scores_raw\"], df[[\"const\", metric]])\n",
    "            if USE_OLS:\n",
    "                scores = df[\"scores_raw\"] if task == \"intrusions\" else (df[\"scores_raw\"] - 1) / 2\n",
    "                mod = sm.OLS(scores, df[[\"const\", metric]])\n",
    "            elif task == \"intrusions\":\n",
    "                mod = sm.Logit(df[\"scores_raw\"], df[[\"const\", metric]])\n",
    "            elif task == \"ratings\":\n",
    "                mod = OrderedModel(df[\"scores_raw\"], df[[metric]], distr=\"probit\")\n",
    "            res = mod.fit(disp=0)\n",
    "            metric_base = re.search(\"c_npmi_10|c_v|c_uci|u_mass\", metric).group(0)\n",
    "            ci_lb, ci_ub = res.conf_int(alpha=ALPHA).loc[metric] \n",
    "            row = {\n",
    "                \"task\": task,\n",
    "                \"dataset\": dataset,\n",
    "                \"metric\": metric_base,\n",
    "                \"reference\": metric.replace(f\"{metric_base}_\", \"\"),\n",
    "                \"coef\": res.params[metric],\n",
    "                \"se\": res.bse[metric],\n",
    "                \"p\": res.pvalues[metric],\n",
    "                \"bic\": res.bic,\n",
    "                \"ci_0.025\": ci_lb,\n",
    "                \"ci_0.975\": ci_ub,\n",
    "            }\n",
    "            rows.append(row)\n",
    "regressions = pd.DataFrame(rows)"
   ]
  },
  {
   "cell_type": "code",
   "execution_count": 319,
   "metadata": {},
   "outputs": [],
   "source": [
    "if not FILTER_ON_FAMILIARITY and not AVERAGE_ANNOTATIONS:\n",
    "    regressions.to_csv(\"regression_results.csv\", index=False)"
   ]
  },
  {
   "source": [
    "### Make the latex table"
   ],
   "cell_type": "markdown",
   "metadata": {}
  },
  {
   "source": [
    "We want to bold the values that are significantly larger than others using the CIs"
   ],
   "cell_type": "markdown",
   "metadata": {}
  },
  {
   "cell_type": "code",
   "execution_count": 26,
   "metadata": {},
   "outputs": [],
   "source": [
    "def find_max_coefs(coefs, lbs, ubs, contiguous=False):\n",
    "    n = len(coefs)\n",
    "    coefs = np.nan_to_num(coefs, nan=0)\n",
    "    lbs = np.nan_to_num(lbs, nan=0)\n",
    "    ubs = np.nan_to_num(ubs, nan=0)\n",
    "    sorted_coef_idx = np.argsort(coefs)[::-1]\n",
    "    for i, idx in enumerate(sorted_coef_idx[1:], start=1):\n",
    "        # is the upper bound of this coefficient contained in the\n",
    "        # lower bound of the next-largest coefficient?\n",
    "        prev_idx = sorted_coef_idx[i-1] if contiguous else sorted_coef_idx[0]\n",
    "        if ubs[idx] < lbs[prev_idx]:\n",
    "            return np.array([j in sorted_coef_idx[:i] for j in range(n)])\n",
    "    return np.full(n, True)"
   ]
  },
  {
   "cell_type": "code",
   "execution_count": 27,
   "metadata": {},
   "outputs": [],
   "source": [
    "METRICS_TO_KEEP = [\"c_v\", \"c_npmi_10\"]\n",
    "regressions.loc[(regressions.dataset==\"wikitext\") & (regressions.reference == \"full\"), \"reference\"] = \"wikitext_full\"\n",
    "regressions.loc[(regressions.dataset==\"nytimes\") & (regressions.reference == \"full\"), \"reference\"] = \"nytimes_full\"\n",
    "regressions_pivot = (\n",
    "    regressions.loc[regressions.metric.isin(METRICS_TO_KEEP)]\n",
    "               .replace({\"\"})\n",
    "               .sort_values([\"task\", \"dataset\", \"metric\", \"reference\"])\n",
    "               #.pivot(index=[\"Metric\", \"Reference\"], columns=[\"Task\", \"Dataset\"], values=\"coef\")\n",
    "               .pivot(index=[\"task\", \"dataset\"], columns=[\"metric\", \"reference\"], values=[\"coef\", \"ci_0.025\", \"ci_0.975\"])\n",
    ")\n",
    "# order the columns\n",
    "regressions_pivot = regressions_pivot[[\n",
    "    (v, m, r)\n",
    "    for v in [\"coef\", \"ci_0.025\", \"ci_0.975\"]\n",
    "    for m in [\"c_npmi_10\", \"c_v\"]\n",
    "    for r in [\"nytimes_full\", \"wikitext_full\", \"train\", \"val\"] #NB: test excluded\n",
    "]]"
   ]
  },
  {
   "cell_type": "code",
   "execution_count": 28,
   "metadata": {},
   "outputs": [],
   "source": [
    "# bold format the significant values\n",
    "for idx, row in regressions_pivot.iterrows():\n",
    "    max_coefs = find_max_coefs(row['coef'], row[\"ci_0.025\"], row[\"ci_0.975\"])\n",
    "    newrow = []\n",
    "    for i, x in enumerate(row[\"coef\"]):\n",
    "        if np.isnan(x):\n",
    "            val = \"-\"\n",
    "        elif not np.isnan(x) and max_coefs[i]:\n",
    "            val = r\"\\uline{\" + f\"{x:0.2f}\" + \"}\"\n",
    "            if x == np.max(row['coef']):\n",
    "                val = r\"\\textbf{\" + val + \"}\"\n",
    "        else:\n",
    "            val = f\"{x:0.2f}\"\n",
    "        newrow.append(val)\n",
    "    regressions_pivot.at[idx, \"coef\"] = newrow"
   ]
  },
  {
   "cell_type": "code",
   "execution_count": 29,
   "metadata": {},
   "outputs": [
    {
     "output_type": "stream",
     "name": "stdout",
     "text": [
      "\\begin{tabular}{ll|rrrr|rrrr}\n\\toprule\n        &  & \\multicolumn{4}{c}{\\abr{npmi} (10-token window)} & \\multicolumn{4}{c}{$C_v$ (110-token window)} \\\\\n        & Ref. Corpus $\\rightarrow$ &  \\abr{nyt} &          \\abr{wiki} &                  Train &   Val &  \\abr{nyt} & \\abr{wiki} &                  Train &           Val \\\\\n & Train Corpus $\\downarrow$ &               &                        &                        &       &               &               &                        &               \\\\\n\\midrule\nIntrusion & \\abr{nyt} &          0.47 &  \\textbf{\\uline{0.72}} &                   0.41 &  0.39 &  \\uline{0.53} &  \\uline{0.66} &           \\uline{0.54} &          0.50 \\\\\n        & \\abr{wiki} &  \\uline{0.75} &           \\uline{0.94} &  \\textbf{\\uline{1.02}} &  0.17 &          0.44 &          0.56 &                   0.56 &          0.14 \\\\\n        & Both &          0.53 &  \\textbf{\\uline{0.80}} &                   0.59 &  0.16 &          0.47 &          0.62 &                   0.55 &          0.18 \\\\\nRating & \\abr{nyt} &  \\uline{0.58} &           \\uline{0.61} &                   0.54 &  0.56 &  \\uline{0.75} &  \\uline{0.72} &  \\textbf{\\uline{0.77}} &  \\uline{0.75} \\\\\n        & \\abr{wiki} &          0.80 &           \\uline{1.08} &  \\textbf{\\uline{1.13}} &  0.37 &          0.55 &          0.77 &                   0.79 &          0.21 \\\\\n        & Both &          0.63 &           \\uline{0.77} &           \\uline{0.72} &  0.32 &          0.64 &  \\uline{0.73} &  \\textbf{\\uline{0.77}} &          0.30 \\\\\n\\bottomrule\n\\end{tabular}\n\n"
     ]
    }
   ],
   "source": [
    "# make latex\n",
    "regressions_pivot_coefs = regressions_pivot[\"coef\"].loc[[\n",
    "    ('intrusions',  'nytimes'),\n",
    "    ('intrusions', 'wikitext'),\n",
    "    ('intrusions',      'all'),\n",
    "    (   'ratings',  'nytimes'),\n",
    "    (   'ratings', 'wikitext'),\n",
    "    (   'ratings',      'all'),\n",
    "]]\n",
    "latex = regressions_pivot_coefs.to_latex(escape=False, multicolumn_format='c', column_format=\"ll|rrrr|rrrr\")\n",
    "to_replace_in_latex={\n",
    "    \"c_v\": r\"$C_v$ (110-token window)\",\n",
    "    \"test\": \"Test\",\n",
    "    \"c_npmi_10\": r\"\\abr{npmi} (10-token window)\",\n",
    "    \"nytimes_full\": r\"\\abr{nyt}\",\n",
    "    \"wikitext_full\": r\"\\abr{wiki}\",\n",
    "    \"wikitext\": r\"\\abr{wiki}\",\n",
    "    \"nytimes\": r\"\\abr{nyt}\",\n",
    "    \"all\": \"Both\",\n",
    "    \"full\": \"Full\",\n",
    "    \"train\": \"Train\",\n",
    "    \"val\": \"Val\",\n",
    "    \"ratings\": \"Rating\",\n",
    "    \"intrusions\": \"Intrusion\",\n",
    "    \"metric\": \"\",\n",
    "    \"dataset\": r\"Train Corpus $\\downarrow$\",\n",
    "    \"reference\": r\"Ref. Corpus $\\rightarrow$\",\n",
    "    \"task\": \"\",\n",
    "}\n",
    "for to_replace, val in to_replace_in_latex.items():\n",
    "    latex = latex.replace(to_replace, val)\n",
    "print(latex)\n"
   ]
  },
  {
   "source": [
    "Linear regression with model effects"
   ],
   "cell_type": "markdown",
   "metadata": {}
  },
  {
   "source": [
    "Linear regression with familiarity effect"
   ],
   "cell_type": "markdown",
   "metadata": {}
  },
  {
   "source": [
    "Best explanation of data"
   ],
   "cell_type": "markdown",
   "metadata": {}
  },
  {
   "source": [
    "## Prediction Setup"
   ],
   "cell_type": "markdown",
   "metadata": {}
  },
  {
   "cell_type": "code",
   "execution_count": 37,
   "metadata": {},
   "outputs": [],
   "source": [
    "def create_split(task_data, test_size):\n",
    "    topic_sample = (\n",
    "    task_data.groupby([\"task\", \"dataset\", \"model\", \"topic_idx\"])\n",
    "                .size()\n",
    "                .reset_index()\n",
    "                .groupby([\"task\", \"dataset\", \"model\"])\n",
    "                .sample(frac=test_size)\n",
    "                .drop(columns=0)\n",
    "    )\n",
    "    topic_sample\n",
    "    task_data[\"idx\"] = np.arange(len(task_data))\n",
    "    task_data_train = task_data.merge(topic_sample, how='inner')\n",
    "    task_data_test = task_data.loc[~task_data.idx.isin(task_data_train.idx)]\n",
    "    return task_data_train, task_data_test\n",
    "\n",
    "def random_choice_prob_index(a, axis=1):\n",
    "    # basically vectorized categorical draw https://stackoverflow.com/a/47722393\n",
    "    r = np.expand_dims(np.random.rand(a.shape[1-axis]), axis=axis)\n",
    "    return (a.cumsum(axis=axis) > r).argmax(axis=axis)\n",
    "\n",
    "def fit_predict_intrusion(train_df, test_df):\n",
    "    exog_cols = [\"const\", metric]\n",
    "    mod = sm.Logit(train_df[\"scores_raw\"], train_df[exog_cols])\n",
    "    res = mod.fit(disp=0)\n",
    "    return res.model.predict(res.params, exog=test_df[exog_cols])\n",
    "\n",
    "def fit_predict_ratings(train_df, test_df):\n",
    "    exog_cols = [metric]\n",
    "    mod = OrderedModel(train_df[\"scores_raw\"], train_df[exog_cols], distr=\"probit\")\n",
    "    res = mod.fit(disp=0)\n",
    "    return res.model.predict(res.params, exog=test_df[exog_cols])\n",
    "\n",
    "def intrusion_test(scores_a, scores_b, alternative=\"larger\"):\n",
    "    return proportions_ztest(\n",
    "        [scores_a.sum(), scores_b.sum()],\n",
    "        [len(scores_a), len(scores_b)],\n",
    "        alternative=alternative\n",
    "    )\n",
    "\n",
    "def ratings_test(scores_a, scores_b, alternative=\"greater\"):\n",
    "    return mannwhitneyu(scores_a, scores_b, alternative=alternative)\n",
    "\n",
    "def false_discovery_rate_sim(\n",
    "    task,\n",
    "    test_df,\n",
    "    probs,\n",
    "    metric,\n",
    "    n_iters=100,\n",
    "    alpha=0.05,\n",
    "    models=[\"mallet\", \"dvae\", \"etm\"],\n",
    "):\n",
    "    false_positives, false_negatives = 0, 0\n",
    "    discoveries, omissions = 0, 0\n",
    "    total = 0\n",
    "    if task == \"intrusions\":\n",
    "        stat_test = intrusion_test\n",
    "    elif task == \"ratings\":\n",
    "        stat_test = ratings_test\n",
    "\n",
    "    for i in range(n_iters):\n",
    "        # sample pseduo human scores\n",
    "        if task == \"intrusions\":\n",
    "            preds = np.random.binomial(1, p=probs)\n",
    "        elif task == \"ratings\":\n",
    "            preds = random_choice_prob_index(probs)\n",
    "\n",
    "        # Calculate the false discovery rate\n",
    "        # TODO: is one-sided appropriate here? does this affect division?\n",
    "        for model_a, model_b in itertools.permutations(models, 2):\n",
    "            model_a_idxr = test_df.model==model_a\n",
    "            model_b_idxr = test_df.model==model_b\n",
    "            # run the tests for both human and auto metrics\n",
    "            stat_auto, p_auto = stat_test(preds[model_a_idxr], preds[model_b_idxr])\n",
    "            stat_human, p_human = stat_test(test_df.loc[model_a_idxr][\"scores_raw\"], test_df.loc[model_b_idxr][\"scores_raw\"])\n",
    "\n",
    "            if p_auto < alpha: # auto rejects the null\n",
    "                false_positives += p_human > alpha # human fails to reject the null\n",
    "                discoveries += 1\n",
    "            if p_human < alpha: # human rejects the null\n",
    "                false_negatives += p_auto > alpha # auto fails to reject null\n",
    "                omissions += 1\n",
    "            total += 1\n",
    "    false_pos_rate = np.nan if discoveries == 0 else false_positives / discoveries\n",
    "    false_neg_rate = np.nan if omissions == 0 else false_negatives / omissions\n",
    "    return false_pos_rate, false_neg_rate, (total - (false_positives + false_negatives)) / total"
   ]
  },
  {
   "cell_type": "code",
   "execution_count": 38,
   "metadata": {},
   "outputs": [],
   "source": [
    "GLOBAL_ITERS = 5\n",
    "LOCAL_ITERS = 10\n",
    "TEST_SIZE = 0.5\n",
    "AVERAGE_ANNOTATIONS = False\n",
    "FILTER_ON_FAMILIARITY = False\n",
    "DROP_NA = False\n",
    "ALPHA = 0.05\n",
    "NUM_ANNOTATORS = {\"intrusions\": 26, \"ratings\": 15}\n",
    "METRICS_TO_USE = [\n",
    " 'c_npmi_10_full',\n",
    " 'c_npmi_10_nytimes_full',\n",
    " 'c_npmi_10_test',\n",
    " 'c_npmi_10_train',\n",
    " 'c_npmi_10_val',\n",
    " 'c_npmi_10_wikitext_full',\n",
    " 'c_v_full',\n",
    " 'c_v_nytimes_full',\n",
    " 'c_v_test',\n",
    " 'c_v_train',\n",
    " 'c_v_val',\n",
    " 'c_v_wikitext_full',\n",
    "]"
   ]
  },
  {
   "cell_type": "code",
   "execution_count": 39,
   "metadata": {},
   "outputs": [],
   "source": [
    "if not DROP_NA:\n",
    "    task_data = task_data.fillna(0)"
   ]
  },
  {
   "cell_type": "code",
   "execution_count": 40,
   "metadata": {},
   "outputs": [
    {
     "output_type": "stream",
     "name": "stderr",
     "text": [
      "  0%|          | 0/5 [00:00<?, ?it/s]/workspace/.conda/envs/statsmodels-dev/lib/python3.8/site-packages/statsmodels/miscmodels/ordinal_model.py:379: FutureWarning: Support for multi-dimensional indexing (e.g. `obj[:, None]`) is deprecated and will be removed in a future version.  Convert to a numpy array before indexing instead.\n",
      "  xb = xb[:, None]\n",
      "100%|██████████| 5/5 [00:44<00:00,  8.93s/it]\n"
     ]
    }
   ],
   "source": [
    "\n",
    "rows = []\n",
    "np.random.seed(42)\n",
    "for iteration in tqdm(range(GLOBAL_ITERS), total=GLOBAL_ITERS):\n",
    "    # iterate through variants and estimate models\n",
    "    task_data_train, task_data_test = create_split(task_data, TEST_SIZE)\n",
    "    \n",
    "    for task in [\"intrusions\", \"ratings\"]:\n",
    "        for dataset in [\"wikitext\", \"nytimes\", \"all\"]:\n",
    "            train_df = task_data_train.loc[task_data_train.task == task]\n",
    "            test_df = task_data_test.loc[task_data_test.task == task]\n",
    "\n",
    "            if dataset != \"all\":\n",
    "                train_df = train_df.loc[train_df.dataset == dataset]\n",
    "                test_df = test_df.loc[test_df.dataset == dataset]\n",
    "            if FILTER_ON_FAMILIARITY:\n",
    "                train_df = train_df.loc[train_df.confidences_raw == 1]\n",
    "                test_df = test_df.loc[test_df.confidences_raw == 1]\n",
    "\n",
    "            for i, metric in enumerate(METRICS_TO_USE):\n",
    "                # estimate a model for the metric, then make predictions\n",
    "                if dataset in metric:\n",
    "                    continue # don't re-do the internal\n",
    "                elif task == \"intrusions\":\n",
    "                    probs = fit_predict_intrusion(train_df, test_df)\n",
    "                elif task == \"ratings\":\n",
    "                    probs = fit_predict_ratings(train_df, test_df)\n",
    "                fp_rate, fn_rate, agree_rate = false_discovery_rate_sim(\n",
    "                    task, test_df, probs, metric, n_iters=LOCAL_ITERS, alpha=ALPHA\n",
    "                )\n",
    "                metric_base = re.search(\"c_npmi_10|c_v|c_uci|u_mass\", metric).group(0)\n",
    "                row = {\n",
    "                    \"iter\": iteration,\n",
    "                    \"task\": task,\n",
    "                    \"dataset\": dataset,\n",
    "                    \"metric\": metric_base,\n",
    "                    \"reference\": metric.replace(f\"{metric_base}_\", \"\"),\n",
    "                    \"false_discoveries\": fp_rate,\n",
    "                    \"false_omissions\": fn_rate,\n",
    "                    \"agree_rate\": agree_rate, \n",
    "                }\n",
    "                rows.append(row)\n",
    "simulation_results = pd.DataFrame(rows)"
   ]
  },
  {
   "cell_type": "code",
   "execution_count": null,
   "metadata": {},
   "outputs": [],
   "source": []
  },
  {
   "cell_type": "code",
   "execution_count": 45,
   "metadata": {},
   "outputs": [],
   "source": [
    "simulation_results.to_csv(\"simulation_results.csv\")"
   ]
  },
  {
   "cell_type": "code",
   "execution_count": 44,
   "metadata": {},
   "outputs": [
    {
     "output_type": "execute_result",
     "data": {
      "text/plain": [
       "                                             false_discoveries  \\\n",
       "task       dataset  metric    reference                          \n",
       "intrusions all      c_npmi_10 full                    0.333810   \n",
       "                              nytimes_full            0.308392   \n",
       "                              test                    0.266747   \n",
       "                              train                   0.287500   \n",
       "                              val                     0.666667   \n",
       "                              wikitext_full           0.344678   \n",
       "                    c_v       full                    0.297537   \n",
       "                              nytimes_full            0.298087   \n",
       "                              test                    0.300347   \n",
       "                              train                   0.293372   \n",
       "                              val                     0.908333   \n",
       "                              wikitext_full           0.281786   \n",
       "           nytimes  c_npmi_10 full                    0.322222   \n",
       "                              test                    0.293669   \n",
       "                              train                   0.248571   \n",
       "                              val                     0.377778   \n",
       "                              wikitext_full           0.273241   \n",
       "                    c_v       full                    0.295402   \n",
       "                              test                    0.302069   \n",
       "                              train                   0.293841   \n",
       "                              val                     0.283480   \n",
       "                              wikitext_full           0.284848   \n",
       "           wikitext c_npmi_10 full                    0.610784   \n",
       "                              nytimes_full            0.598758   \n",
       "                              test                    0.625926   \n",
       "                              train                   0.594118   \n",
       "                              val                     0.933333   \n",
       "                    c_v       full                    0.622134   \n",
       "                              nytimes_full            0.604762   \n",
       "                              test                    0.609091   \n",
       "                              train                   0.618182   \n",
       "                              val                     0.977778   \n",
       "ratings    all      c_npmi_10 full                    0.475649   \n",
       "                              nytimes_full            0.494543   \n",
       "                              test                    0.515060   \n",
       "                              train                   0.446285   \n",
       "                              val                     0.225000   \n",
       "                              wikitext_full           0.521446   \n",
       "                    c_v       full                    0.424542   \n",
       "                              nytimes_full            0.445055   \n",
       "                              test                    0.416420   \n",
       "                              train                   0.447801   \n",
       "                              val                     0.257329   \n",
       "                              wikitext_full           0.467317   \n",
       "           nytimes  c_npmi_10 full                    0.724389   \n",
       "                              test                    0.725859   \n",
       "                              train                   0.758521   \n",
       "                              val                     0.673636   \n",
       "                              wikitext_full           0.740217   \n",
       "                    c_v       full                    0.705097   \n",
       "                              test                    0.658079   \n",
       "                              train                   0.646256   \n",
       "                              val                     0.626958   \n",
       "                              wikitext_full           0.753879   \n",
       "           wikitext c_npmi_10 full                    0.397143   \n",
       "                              nytimes_full            0.443666   \n",
       "                              test                    0.383458   \n",
       "                              train                   0.347826   \n",
       "                              val                     0.441392   \n",
       "                    c_v       full                    0.398002   \n",
       "                              nytimes_full            0.408420   \n",
       "                              test                    0.401875   \n",
       "                              train                   0.381791   \n",
       "                              val                     0.719627   \n",
       "\n",
       "                                             false_omissions  \n",
       "task       dataset  metric    reference                       \n",
       "intrusions all      c_npmi_10 full                  0.320000  \n",
       "                              nytimes_full          0.286667  \n",
       "                              test                  0.243333  \n",
       "                              train                 0.356667  \n",
       "                              val                   0.916667  \n",
       "                              wikitext_full         0.316667  \n",
       "                    c_v       full                  0.163333  \n",
       "                              nytimes_full          0.200000  \n",
       "                              test                  0.156667  \n",
       "                              train                 0.136667  \n",
       "                              val                   0.963333  \n",
       "                              wikitext_full         0.160000  \n",
       "           nytimes  c_npmi_10 full                  0.416667  \n",
       "                              test                  0.429167  \n",
       "                              train                 0.529167  \n",
       "                              val                   0.850000  \n",
       "                              wikitext_full         0.204167  \n",
       "                    c_v       full                  0.133333  \n",
       "                              test                  0.141667  \n",
       "                              train                 0.225000  \n",
       "                              val                   0.283333  \n",
       "                              wikitext_full         0.108333  \n",
       "           wikitext c_npmi_10 full                  0.144444  \n",
       "                              nytimes_full          0.200000  \n",
       "                              test                  0.166667  \n",
       "                              train                 0.288889  \n",
       "                              val                   0.966667  \n",
       "                    c_v       full                  0.066667  \n",
       "                              nytimes_full          0.066667  \n",
       "                              test                  0.066667  \n",
       "                              train                 0.044444  \n",
       "                              val                   0.988889  \n",
       "ratings    all      c_npmi_10 full                  0.610000  \n",
       "                              nytimes_full          0.623333  \n",
       "                              test                  0.616667  \n",
       "                              train                 0.646667  \n",
       "                              val                   0.866667  \n",
       "                              wikitext_full         0.646667  \n",
       "                    c_v       full                  0.426667  \n",
       "                              nytimes_full          0.473333  \n",
       "                              test                  0.406667  \n",
       "                              train                 0.466667  \n",
       "                              val                   0.600000  \n",
       "                              wikitext_full         0.513333  \n",
       "           nytimes  c_npmi_10 full                  0.846667  \n",
       "                              test                  0.873333  \n",
       "                              train                 0.896667  \n",
       "                              val                   0.920000  \n",
       "                              wikitext_full         0.920000  \n",
       "                    c_v       full                  0.660000  \n",
       "                              test                  0.593333  \n",
       "                              train                 0.586667  \n",
       "                              val                   0.620000  \n",
       "                              wikitext_full         0.750000  \n",
       "           wikitext c_npmi_10 full                  0.543333  \n",
       "                              nytimes_full          0.610000  \n",
       "                              test                  0.436667  \n",
       "                              train                 0.550000  \n",
       "                              val                   0.803333  \n",
       "                    c_v       full                  0.356667  \n",
       "                              nytimes_full          0.433333  \n",
       "                              test                  0.380000  \n",
       "                              train                 0.373333  \n",
       "                              val                   0.840000  "
      ],
      "text/html": "<div>\n<style scoped>\n    .dataframe tbody tr th:only-of-type {\n        vertical-align: middle;\n    }\n\n    .dataframe tbody tr th {\n        vertical-align: top;\n    }\n\n    .dataframe thead th {\n        text-align: right;\n    }\n</style>\n<table border=\"1\" class=\"dataframe\">\n  <thead>\n    <tr style=\"text-align: right;\">\n      <th></th>\n      <th></th>\n      <th></th>\n      <th></th>\n      <th>false_discoveries</th>\n      <th>false_omissions</th>\n    </tr>\n    <tr>\n      <th>task</th>\n      <th>dataset</th>\n      <th>metric</th>\n      <th>reference</th>\n      <th></th>\n      <th></th>\n    </tr>\n  </thead>\n  <tbody>\n    <tr>\n      <th rowspan=\"32\" valign=\"top\">intrusions</th>\n      <th rowspan=\"12\" valign=\"top\">all</th>\n      <th rowspan=\"6\" valign=\"top\">c_npmi_10</th>\n      <th>full</th>\n      <td>0.333810</td>\n      <td>0.320000</td>\n    </tr>\n    <tr>\n      <th>nytimes_full</th>\n      <td>0.308392</td>\n      <td>0.286667</td>\n    </tr>\n    <tr>\n      <th>test</th>\n      <td>0.266747</td>\n      <td>0.243333</td>\n    </tr>\n    <tr>\n      <th>train</th>\n      <td>0.287500</td>\n      <td>0.356667</td>\n    </tr>\n    <tr>\n      <th>val</th>\n      <td>0.666667</td>\n      <td>0.916667</td>\n    </tr>\n    <tr>\n      <th>wikitext_full</th>\n      <td>0.344678</td>\n      <td>0.316667</td>\n    </tr>\n    <tr>\n      <th rowspan=\"6\" valign=\"top\">c_v</th>\n      <th>full</th>\n      <td>0.297537</td>\n      <td>0.163333</td>\n    </tr>\n    <tr>\n      <th>nytimes_full</th>\n      <td>0.298087</td>\n      <td>0.200000</td>\n    </tr>\n    <tr>\n      <th>test</th>\n      <td>0.300347</td>\n      <td>0.156667</td>\n    </tr>\n    <tr>\n      <th>train</th>\n      <td>0.293372</td>\n      <td>0.136667</td>\n    </tr>\n    <tr>\n      <th>val</th>\n      <td>0.908333</td>\n      <td>0.963333</td>\n    </tr>\n    <tr>\n      <th>wikitext_full</th>\n      <td>0.281786</td>\n      <td>0.160000</td>\n    </tr>\n    <tr>\n      <th rowspan=\"10\" valign=\"top\">nytimes</th>\n      <th rowspan=\"5\" valign=\"top\">c_npmi_10</th>\n      <th>full</th>\n      <td>0.322222</td>\n      <td>0.416667</td>\n    </tr>\n    <tr>\n      <th>test</th>\n      <td>0.293669</td>\n      <td>0.429167</td>\n    </tr>\n    <tr>\n      <th>train</th>\n      <td>0.248571</td>\n      <td>0.529167</td>\n    </tr>\n    <tr>\n      <th>val</th>\n      <td>0.377778</td>\n      <td>0.850000</td>\n    </tr>\n    <tr>\n      <th>wikitext_full</th>\n      <td>0.273241</td>\n      <td>0.204167</td>\n    </tr>\n    <tr>\n      <th rowspan=\"5\" valign=\"top\">c_v</th>\n      <th>full</th>\n      <td>0.295402</td>\n      <td>0.133333</td>\n    </tr>\n    <tr>\n      <th>test</th>\n      <td>0.302069</td>\n      <td>0.141667</td>\n    </tr>\n    <tr>\n      <th>train</th>\n      <td>0.293841</td>\n      <td>0.225000</td>\n    </tr>\n    <tr>\n      <th>val</th>\n      <td>0.283480</td>\n      <td>0.283333</td>\n    </tr>\n    <tr>\n      <th>wikitext_full</th>\n      <td>0.284848</td>\n      <td>0.108333</td>\n    </tr>\n    <tr>\n      <th rowspan=\"10\" valign=\"top\">wikitext</th>\n      <th rowspan=\"5\" valign=\"top\">c_npmi_10</th>\n      <th>full</th>\n      <td>0.610784</td>\n      <td>0.144444</td>\n    </tr>\n    <tr>\n      <th>nytimes_full</th>\n      <td>0.598758</td>\n      <td>0.200000</td>\n    </tr>\n    <tr>\n      <th>test</th>\n      <td>0.625926</td>\n      <td>0.166667</td>\n    </tr>\n    <tr>\n      <th>train</th>\n      <td>0.594118</td>\n      <td>0.288889</td>\n    </tr>\n    <tr>\n      <th>val</th>\n      <td>0.933333</td>\n      <td>0.966667</td>\n    </tr>\n    <tr>\n      <th rowspan=\"5\" valign=\"top\">c_v</th>\n      <th>full</th>\n      <td>0.622134</td>\n      <td>0.066667</td>\n    </tr>\n    <tr>\n      <th>nytimes_full</th>\n      <td>0.604762</td>\n      <td>0.066667</td>\n    </tr>\n    <tr>\n      <th>test</th>\n      <td>0.609091</td>\n      <td>0.066667</td>\n    </tr>\n    <tr>\n      <th>train</th>\n      <td>0.618182</td>\n      <td>0.044444</td>\n    </tr>\n    <tr>\n      <th>val</th>\n      <td>0.977778</td>\n      <td>0.988889</td>\n    </tr>\n    <tr>\n      <th rowspan=\"32\" valign=\"top\">ratings</th>\n      <th rowspan=\"12\" valign=\"top\">all</th>\n      <th rowspan=\"6\" valign=\"top\">c_npmi_10</th>\n      <th>full</th>\n      <td>0.475649</td>\n      <td>0.610000</td>\n    </tr>\n    <tr>\n      <th>nytimes_full</th>\n      <td>0.494543</td>\n      <td>0.623333</td>\n    </tr>\n    <tr>\n      <th>test</th>\n      <td>0.515060</td>\n      <td>0.616667</td>\n    </tr>\n    <tr>\n      <th>train</th>\n      <td>0.446285</td>\n      <td>0.646667</td>\n    </tr>\n    <tr>\n      <th>val</th>\n      <td>0.225000</td>\n      <td>0.866667</td>\n    </tr>\n    <tr>\n      <th>wikitext_full</th>\n      <td>0.521446</td>\n      <td>0.646667</td>\n    </tr>\n    <tr>\n      <th rowspan=\"6\" valign=\"top\">c_v</th>\n      <th>full</th>\n      <td>0.424542</td>\n      <td>0.426667</td>\n    </tr>\n    <tr>\n      <th>nytimes_full</th>\n      <td>0.445055</td>\n      <td>0.473333</td>\n    </tr>\n    <tr>\n      <th>test</th>\n      <td>0.416420</td>\n      <td>0.406667</td>\n    </tr>\n    <tr>\n      <th>train</th>\n      <td>0.447801</td>\n      <td>0.466667</td>\n    </tr>\n    <tr>\n      <th>val</th>\n      <td>0.257329</td>\n      <td>0.600000</td>\n    </tr>\n    <tr>\n      <th>wikitext_full</th>\n      <td>0.467317</td>\n      <td>0.513333</td>\n    </tr>\n    <tr>\n      <th rowspan=\"10\" valign=\"top\">nytimes</th>\n      <th rowspan=\"5\" valign=\"top\">c_npmi_10</th>\n      <th>full</th>\n      <td>0.724389</td>\n      <td>0.846667</td>\n    </tr>\n    <tr>\n      <th>test</th>\n      <td>0.725859</td>\n      <td>0.873333</td>\n    </tr>\n    <tr>\n      <th>train</th>\n      <td>0.758521</td>\n      <td>0.896667</td>\n    </tr>\n    <tr>\n      <th>val</th>\n      <td>0.673636</td>\n      <td>0.920000</td>\n    </tr>\n    <tr>\n      <th>wikitext_full</th>\n      <td>0.740217</td>\n      <td>0.920000</td>\n    </tr>\n    <tr>\n      <th rowspan=\"5\" valign=\"top\">c_v</th>\n      <th>full</th>\n      <td>0.705097</td>\n      <td>0.660000</td>\n    </tr>\n    <tr>\n      <th>test</th>\n      <td>0.658079</td>\n      <td>0.593333</td>\n    </tr>\n    <tr>\n      <th>train</th>\n      <td>0.646256</td>\n      <td>0.586667</td>\n    </tr>\n    <tr>\n      <th>val</th>\n      <td>0.626958</td>\n      <td>0.620000</td>\n    </tr>\n    <tr>\n      <th>wikitext_full</th>\n      <td>0.753879</td>\n      <td>0.750000</td>\n    </tr>\n    <tr>\n      <th rowspan=\"10\" valign=\"top\">wikitext</th>\n      <th rowspan=\"5\" valign=\"top\">c_npmi_10</th>\n      <th>full</th>\n      <td>0.397143</td>\n      <td>0.543333</td>\n    </tr>\n    <tr>\n      <th>nytimes_full</th>\n      <td>0.443666</td>\n      <td>0.610000</td>\n    </tr>\n    <tr>\n      <th>test</th>\n      <td>0.383458</td>\n      <td>0.436667</td>\n    </tr>\n    <tr>\n      <th>train</th>\n      <td>0.347826</td>\n      <td>0.550000</td>\n    </tr>\n    <tr>\n      <th>val</th>\n      <td>0.441392</td>\n      <td>0.803333</td>\n    </tr>\n    <tr>\n      <th rowspan=\"5\" valign=\"top\">c_v</th>\n      <th>full</th>\n      <td>0.398002</td>\n      <td>0.356667</td>\n    </tr>\n    <tr>\n      <th>nytimes_full</th>\n      <td>0.408420</td>\n      <td>0.433333</td>\n    </tr>\n    <tr>\n      <th>test</th>\n      <td>0.401875</td>\n      <td>0.380000</td>\n    </tr>\n    <tr>\n      <th>train</th>\n      <td>0.381791</td>\n      <td>0.373333</td>\n    </tr>\n    <tr>\n      <th>val</th>\n      <td>0.719627</td>\n      <td>0.840000</td>\n    </tr>\n  </tbody>\n</table>\n</div>"
     },
     "metadata": {},
     "execution_count": 44
    }
   ],
   "source": [
    "simulation_results.groupby([\"task\", \"dataset\", \"metric\", \"reference\"])[[\"false_discoveries\", \"false_omissions\"]].agg(\"mean\", \"std\")"
   ]
  },
  {
   "cell_type": "code",
   "execution_count": null,
   "metadata": {},
   "outputs": [],
   "source": []
  }
 ]
}